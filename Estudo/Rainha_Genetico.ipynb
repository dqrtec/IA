{
 "cells": [
  {
   "cell_type": "code",
   "execution_count": 145,
   "metadata": {},
   "outputs": [],
   "source": [
    "import random as rdn"
   ]
  },
  {
   "cell_type": "code",
   "execution_count": 146,
   "metadata": {},
   "outputs": [],
   "source": [
    "def criarTabelas(n):\n",
    "    tabelas = [[] for i in range(n)]\n",
    "    for i in range(n):\n",
    "        tabelas[i] = [ rdn.randint(0,n-1) for j in range(n)]\n",
    "    return tabelas\n",
    "\n",
    "def custoTabela(tabela):\n",
    "    custoLinha = 0\n",
    "    dicionario = {}\n",
    "    for i in tabela:\n",
    "        if i in dicionario:\n",
    "            custoLinha += 1\n",
    "            dicionario[i] = dicionario[i] + 1\n",
    "        else:\n",
    "            dicionario[i] = 1\n",
    "    \n",
    "    somaDiagonal = 0 \n",
    "    for i in range(len(tabela)):\n",
    "        for j in range(i+1,len(tabela)):\n",
    "            \n",
    "            if tabela[i]+(j-i) < len(tabela):\n",
    "                if tabela[i+(j-i)] == tabela[i]+(j-i):\n",
    "                    somaDiagonal += 1\n",
    "            if tabela[i]-(j-i) >= 0:\n",
    "                if tabela[i+(j-i)] == tabela[i]-(j-i):\n",
    "                    somaDiagonal += 1\n",
    "        \n",
    "        for j in range(0,i):\n",
    "            if tabela[i]+(j+1) < len(tabela):\n",
    "                if tabela[i-(j+1)] == tabela[i]+(j+1):\n",
    "                    somaDiagonal += 1\n",
    "            if tabela[i]-(j+1) >= 0:\n",
    "                if tabela[i-(j+1)] == tabela[i]-(j+1):\n",
    "                    somaDiagonal += 1\n",
    "    return somaDiagonal + custoLinha\n",
    "\n",
    "def criarFilhos(pai1,pai2):\n",
    "    indice = rdn.randint(0,len(pai1)-1)\n",
    "    filho1 = pai1[0:indice] + pai2[indice:]\n",
    "    filho2 = pai2[0:indice] + pai1[indice:]\n",
    "    return (filho1, filho2)\n",
    "\n",
    "def Roda(listaProbabilidade):\n",
    "    a = [i/sum(listaProbabilidade) for i in listaProbabilidade ]\n",
    "    p = rdn.random()\n",
    "    b = [sum(a[0:i]) for i in range(len(a))]\n",
    "    \n",
    "    for i in range(len(b)):\n",
    "        if b[i]  > p:\n",
    "            return i-1\n",
    "        if i == len(b)-1:\n",
    "            return i\n",
    "def Mutation(tabela):\n",
    "    coluna = rdn.randint(0,len(tabela)-1)\n",
    "    tabela[coluna] = rdn.randint(0,len(tabela))\n",
    "    return tabela"
   ]
  },
  {
   "cell_type": "code",
   "execution_count": 147,
   "metadata": {},
   "outputs": [],
   "source": []
  },
  {
   "cell_type": "code",
   "execution_count": 211,
   "metadata": {},
   "outputs": [
    {
     "name": "stdout",
     "output_type": "stream",
     "text": [
      "[0.5454545454545454, 0.6363636363636364, 0.36363636363636365, 0.6363636363636364, 0.6818181818181819, 0.6363636363636364]\n",
      "[1, 3, 5, 0, 2, 4]\n"
     ]
    }
   ],
   "source": [
    "n = 6\n",
    "pPaiPermanecer = 0.90\n",
    "pMutation = 0.80\n",
    "\n",
    "listaTabelas = criarTabelas(n)\n",
    "probabilidade = [1-(custoTabela(i)/22) for i in listaTabelas]\n",
    "print(probabilidade)\n",
    "achou = False\n",
    "\n",
    "for i in range(100):\n",
    "    \n",
    "    filhos = []\n",
    "    while len(filhos) <= len(listaTabelas)-2:\n",
    "        pai1 = listaTabelas[ Roda(probabilidade) ]\n",
    "        pai2 = listaTabelas[ Roda(probabilidade) ]\n",
    "        menorCusto = pai1 if custoTabela(pai1) < custoTabela(pai2) else pai2 \n",
    "        indiceMenorCusto = listaTabelas.index(menorCusto)\n",
    "        if((rdn.random()>pPaiPermanecer)and(probabilidade[indiceMenorCusto])):\n",
    "            filhos.append(menorCusto)\n",
    "            filhos.append(menorCusto)\n",
    "        else:\n",
    "\n",
    "            filho1, filho2 = criarFilhos(pai1,pai2)\n",
    "            if(rdn.random()>pMutation):\n",
    "                filho1 = Mutation(filho1)\n",
    "            if(rdn.random()>pMutation):\n",
    "                filho2 = Mutation(filho2)\n",
    "                \n",
    "            filhos.append(filho1)\n",
    "            filhos.append(filho2)\n",
    "\n",
    "    listaTabelas = filhos\n",
    "    for j in filhos:\n",
    "        if 0  == custoTabela(j):\n",
    "            print(j)\n",
    "            achou = True\n",
    "            break\n",
    "    if achou:\n",
    "        break"
   ]
  },
  {
   "cell_type": "code",
   "execution_count": null,
   "metadata": {},
   "outputs": [],
   "source": []
  }
 ],
 "metadata": {
  "kernelspec": {
   "display_name": "Python 3",
   "language": "python",
   "name": "python3"
  },
  "language_info": {
   "codemirror_mode": {
    "name": "ipython",
    "version": 3
   },
   "file_extension": ".py",
   "mimetype": "text/x-python",
   "name": "python",
   "nbconvert_exporter": "python",
   "pygments_lexer": "ipython3",
   "version": "3.6.9"
  }
 },
 "nbformat": 4,
 "nbformat_minor": 2
}
