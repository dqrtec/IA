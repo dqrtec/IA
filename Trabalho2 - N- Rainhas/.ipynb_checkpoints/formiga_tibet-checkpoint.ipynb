{
 "cells": [
  {
   "cell_type": "markdown",
   "metadata": {
    "colab_type": "text",
    "id": "view-in-github"
   },
   "source": [
    "<a href=\"https://colab.research.google.com/github/dqrtec/IA/blob/master/formiga.ipynb\" target=\"_parent\"><img src=\"https://colab.research.google.com/assets/colab-badge.svg\" alt=\"Open In Colab\"/></a>"
   ]
  },
  {
   "cell_type": "code",
   "execution_count": 2,
   "metadata": {
    "colab": {},
    "colab_type": "code",
    "id": "SpNHDQyY1vBb"
   },
   "outputs": [],
   "source": [
    "import random as rdn"
   ]
  },
  {
   "cell_type": "code",
   "execution_count": 3,
   "metadata": {},
   "outputs": [],
   "source": [
    "def caminhoInicial(n):\n",
    "    a = [i for i in range(0,n)] \n",
    "    rdn.shuffle(a)\n",
    "    return a"
   ]
  },
  {
   "cell_type": "code",
   "execution_count": 4,
   "metadata": {},
   "outputs": [],
   "source": [
    "def printMatrizRainhas(posicaoRainhas):\n",
    "    n = len(posicaoRainhas)\n",
    "    matrixRainhas = []\n",
    "  \n",
    "    for l in range(n):\n",
    "        matrixRainhas.append([])\n",
    "        for c in range(n):\n",
    "            if posicaoRainhas[c] == l:\n",
    "                matrixRainhas[l].append(1)\n",
    "            else:\n",
    "                matrixRainhas[l].append(0)\n",
    "\n",
    "    for linha in matrixRainhas:\n",
    "        print(linha)"
   ]
  },
  {
   "cell_type": "code",
   "execution_count": 0,
   "metadata": {
    "colab": {},
    "colab_type": "code",
    "id": "3GNOMcPq1jtI"
   },
   "outputs": [],
   "source": [
    "def calcularCusto(tabela):\n",
    "    custoLinha = 0\n",
    "    dicionario = {}\n",
    "    for i in tabela:\n",
    "        if i in dicionario:\n",
    "            custoLinha += 1\n",
    "            dicionario[i] = dicionario[i] + 1\n",
    "        else:\n",
    "            dicionario[i] = 1\n",
    "            \n",
    "    somaDiagonal = 0 \n",
    "    for i in range(len(tabela)):\n",
    "        for j in range(i+1,len(tabela)):\n",
    "            \n",
    "            if tabela[i]+(j-i) < len(tabela):\n",
    "                if tabela[i+(j-i)] == tabela[i]+(j-i):\n",
    "                    somaDiagonal += 1\n",
    "            if tabela[i]-(j-i) >= 0:\n",
    "                if tabela[i+(j-i)] == tabela[i]-(j-i):\n",
    "                    somaDiagonal += 1\n",
    "        \n",
    "        for j in range(0,i):\n",
    "            if tabela[i]+(j+1) < len(tabela):\n",
    "                if tabela[i-(j+1)] == tabela[i]+(j+1):\n",
    "                    somaDiagonal += 1\n",
    "            if tabela[i]-(j+1) >= 0:\n",
    "                if tabela[i-(j+1)] == tabela[i]-(j+1):\n",
    "                    somaDiagonal += 1\n",
    "    custoTotal = int(somaDiagonal/2) + custoLinha\n",
    "    return custoTotal"
   ]
  },
  {
   "cell_type": "code",
   "execution_count": 4,
   "metadata": {
    "colab": {
     "base_uri": "https://localhost:8080/",
     "height": 126
    },
    "colab_type": "code",
    "id": "TSVEWIKO1nod",
    "outputId": "63961d2c-0bb4-4f6b-c3ac-4953d242cb1d"
   },
   "outputs": [
    {
     "name": "stdout",
     "output_type": "stream",
     "text": [
      "2\n",
      "[0, 0, 1, 0, 0]\n",
      "[1, 0, 0, 0, 0]\n",
      "[0, 0, 0, 0, 1]\n",
      "[0, 1, 0, 0, 0]\n",
      "[0, 0, 0, 1, 0]\n"
     ]
    }
   ],
   "source": [
    "caminhoFormiga = caminhoInicial(5)\n",
    "print(calcularCusto(caminhoFormiga))\n",
    "printMatrizRainhas(caminhoFormiga)"
   ]
  },
  {
   "cell_type": "code",
   "execution_count": 0,
   "metadata": {
    "colab": {},
    "colab_type": "code",
    "id": "cF-6_puG1oEa"
   },
   "outputs": [],
   "source": [
    "def criarMatrizFeromonioInicial(N):\n",
    "    matrix = []\n",
    "    for l in range(N):\n",
    "        matrix.append([])\n",
    "    for l in range(N):\n",
    "        for c in range(N):\n",
    "            matrix[l].append(1)\n",
    "    return matrix\n",
    "    "
   ]
  },
  {
   "cell_type": "code",
   "execution_count": 6,
   "metadata": {
    "colab": {
     "base_uri": "https://localhost:8080/",
     "height": 108
    },
    "colab_type": "code",
    "id": "Z9NWFft1JHVo",
    "outputId": "6cd570c9-21ae-453d-c84d-0d9ecec94f11"
   },
   "outputs": [
    {
     "name": "stdout",
     "output_type": "stream",
     "text": [
      "[1, 1, 1, 1, 1]\n",
      "[1, 1, 1, 1, 1]\n",
      "[1, 1, 1, 1, 1]\n",
      "[1, 1, 1, 1, 1]\n",
      "[1, 1, 1, 1, 1]\n"
     ]
    }
   ],
   "source": [
    "matrizFeronomio = criarMatrizFeromonioInicial(len(caminhoFormiga))\n",
    "for line in matrizFeronomio:\n",
    "    print(line)"
   ]
  },
  {
   "cell_type": "code",
   "execution_count": 0,
   "metadata": {
    "colab": {},
    "colab_type": "code",
    "id": "YwusS7t1JHVt"
   },
   "outputs": [],
   "source": [
    "def calcularMatrizFeronomio(caminhoFormiga, matrizFeromonio):\n",
    "    if (calcularCusto(caminhoFormiga) == 0):\n",
    "      print(MatrizRainhas(caminhoFormiga))\n",
    "      return caminhoFormiga\n",
    "      \n",
    "      \n",
    "    feromonio = 1/calcularCusto(caminhoFormiga)\n",
    "    \n",
    "    for l, c in enumerate(caminhoFormiga):\n",
    "        if (l == caminhoFormiga[c]):\n",
    "            matrizFeromonio[l][c] += feromonio"
   ]
  },
  {
   "cell_type": "code",
   "execution_count": 22,
   "metadata": {
    "colab": {
     "base_uri": "https://localhost:8080/",
     "height": 108
    },
    "colab_type": "code",
    "id": "VKRUoVtoJHV0",
    "outputId": "8313f26f-1cf5-4156-cf4f-6e2e3772db29"
   },
   "outputs": [
    {
     "name": "stdout",
     "output_type": "stream",
     "text": [
      "[1, 1, 2.0, 1, 1]\n",
      "[2.0, 1, 1, 1, 1]\n",
      "[1, 1, 1, 1, 2.0]\n",
      "[1, 2.0, 1, 1, 1]\n",
      "[1, 1, 1, 2.0, 1]\n"
     ]
    }
   ],
   "source": [
    "calcularMatrizFeronomio(caminhoFormiga, matrizFeronomio)\n",
    "for line in matrizFeronomio:\n",
    "    print(line)"
   ]
  },
  {
   "cell_type": "code",
   "execution_count": 0,
   "metadata": {
    "colab": {},
    "colab_type": "code",
    "id": "uJI1VD9zJHV3"
   },
   "outputs": [],
   "source": [
    "#calcularProbabilidade\n",
    "def calcMatrizProb(matrizFeronomio):\n",
    "  matrixProb = []\n",
    "  somas = []\n",
    "  for line in matrizFeronomio:\n",
    "    somas.append(0)\n",
    "  for line in matrizFeronomio:    \n",
    "    for index, col in enumerate(line):\n",
    "      somas[index] += col\n",
    "      \n",
    "  for indexLine, line in enumerate(matrizFeronomio):\n",
    "    matrixProb.append([])  \n",
    "  for indexLine, line in enumerate(matrizFeronomio):\n",
    "    for indexCol, col in enumerate(line):\n",
    "      matrixProb[indexLine].append(col/somas[indexCol]) \n",
    "      \n",
    "  for line in matrixProb:\n",
    "    print(line)\n",
    "  return matrixProb\n",
    "    \n",
    "  \n",
    "  "
   ]
  },
  {
   "cell_type": "code",
   "execution_count": 24,
   "metadata": {
    "colab": {
     "base_uri": "https://localhost:8080/",
     "height": 108
    },
    "colab_type": "code",
    "id": "tXo2ZYoQJHV7",
    "outputId": "2d70b633-0e4c-465c-8b5e-dc60debb6f2b"
   },
   "outputs": [
    {
     "name": "stdout",
     "output_type": "stream",
     "text": [
      "[0.16666666666666666, 0.16666666666666666, 0.3333333333333333, 0.16666666666666666, 0.16666666666666666]\n",
      "[0.3333333333333333, 0.16666666666666666, 0.16666666666666666, 0.16666666666666666, 0.16666666666666666]\n",
      "[0.16666666666666666, 0.16666666666666666, 0.16666666666666666, 0.16666666666666666, 0.3333333333333333]\n",
      "[0.16666666666666666, 0.3333333333333333, 0.16666666666666666, 0.16666666666666666, 0.16666666666666666]\n",
      "[0.16666666666666666, 0.16666666666666666, 0.16666666666666666, 0.3333333333333333, 0.16666666666666666]\n"
     ]
    }
   ],
   "source": [
    "matrizProb = calcMatrizProb(matrizFeronomio)"
   ]
  },
  {
   "cell_type": "code",
   "execution_count": 27,
   "metadata": {
    "colab": {
     "base_uri": "https://localhost:8080/",
     "height": 126
    },
    "colab_type": "code",
    "id": "Am2Gscn9Siku",
    "outputId": "c8eaa5f6-dcf3-4c45-b70f-84a4c4a7d696"
   },
   "outputs": [
    {
     "name": "stdout",
     "output_type": "stream",
     "text": [
      "0.9235913073875872\n",
      "0.8998565544505001\n",
      "0.6675412645409983\n",
      "0.7811984722672721\n",
      "0.30313754394867765\n",
      "[0, 1, 0, 3, 4]\n"
     ]
    }
   ],
   "source": [
    "#método da roleta pra escolher a prox formiga\n",
    "def novoCaminhoFormiga(matrizProb):\n",
    "  novoCaminho = [0 for n in matrizProb]\n",
    "  for line in matrizProb:\n",
    "    pesos = [n for n in line]\n",
    "    somaPeso = sum(pesos)\n",
    "    sorteio = rdn.random()\n",
    "    print(sorteio)\n",
    "    posicaoEscolhida = -1\n",
    "    if (sorteio > 0):\n",
    "      posicaoEscolhida += 1\n",
    "      sorteio -= pesos[posicaoEscolhida]\n",
    "    while (sorteio > 0):\n",
    "      posicaoEscolhida += 1\n",
    "      sorteio -= pesos[posicaoEscolhida]\n",
    "    novoCaminho[posicaoEscolhida] = posicaoEscolhida\n",
    "  \n",
    "  print(novoCaminho)\n",
    "\n",
    "novoCaminhoFormiga(matrizProb)  "
   ]
  },
  {
   "cell_type": "code",
   "execution_count": 0,
   "metadata": {
    "colab": {},
    "colab_type": "code",
    "id": "LyiBUf3gHmDi"
   },
   "outputs": [],
   "source": [
    "#main\n",
    "n = 40\n",
    "numeroDeFormigas = 40\n",
    "caminhosFormigas = []\n",
    "for formiga in range(numeroDeFormigas):\n",
    "  caminhosFormigas.append(caminhoInicial(40))\n",
    "#matriz compartilhada pelas formigas\n",
    "matrizFeronomio = criarMatrizFeromonioInicial(n)"
   ]
  },
  {
   "cell_type": "code",
   "execution_count": 0,
   "metadata": {
    "colab": {},
    "colab_type": "code",
    "id": "dwdQBlEc8Uj1"
   },
   "outputs": [],
   "source": []
  },
  {
   "cell_type": "code",
   "execution_count": 0,
   "metadata": {
    "colab": {},
    "colab_type": "code",
    "id": "MAyMHityyUmq"
   },
   "outputs": [],
   "source": []
  }
 ],
 "metadata": {
  "colab": {
   "collapsed_sections": [],
   "name": "formiga.ipynb",
   "provenance": []
  },
  "kernelspec": {
   "display_name": "Python 3",
   "language": "python",
   "name": "python3"
  },
  "language_info": {
   "codemirror_mode": {
    "name": "ipython",
    "version": 3
   },
   "file_extension": ".py",
   "mimetype": "text/x-python",
   "name": "python",
   "nbconvert_exporter": "python",
   "pygments_lexer": "ipython3",
   "version": "3.6.8"
  }
 },
 "nbformat": 4,
 "nbformat_minor": 1
}
