{
 "cells": [
  {
   "cell_type": "markdown",
   "metadata": {
    "colab_type": "text",
    "id": "view-in-github"
   },
   "source": [
    "<a href=\"https://colab.research.google.com/github/dqrtec/IA/blob/master/formiga.ipynb\" target=\"_parent\"><img src=\"https://colab.research.google.com/assets/colab-badge.svg\" alt=\"Open In Colab\"/></a>"
   ]
  },
  {
   "cell_type": "code",
   "execution_count": 1,
   "metadata": {
    "colab": {},
    "colab_type": "code",
    "id": "SpNHDQyY1vBb"
   },
   "outputs": [],
   "source": [
    "import random as rdn"
   ]
  },
  {
   "cell_type": "code",
   "execution_count": 2,
   "metadata": {
    "colab": {},
    "colab_type": "code",
    "id": "3GNOMcPq1jtI"
   },
   "outputs": [],
   "source": [
    "def posicaoRainhas(n):\n",
    "  a =  [i for i in range(0,n)] \n",
    "  rdn.shuffle( a )\n",
    "  return a\n",
    "\n",
    "def printMatrixRainhas(posicaoRainhas):\n",
    "  n = len(posicaoRainhas)\n",
    "  matrixRainhas = []\n",
    "  \n",
    "  for l in range(n):\n",
    "    matrixRainhas.append([])\n",
    "    for c in range(n):\n",
    "      if posicaoRainhas[c] == l:\n",
    "        matrixRainhas[l].append(1)\n",
    "      else:\n",
    "        matrixRainhas[l].append(0)\n",
    "  \n",
    "  for linha in matrixRainhas:\n",
    "    print(linha)\n",
    "    \n",
    "    \n",
    "def calcularCusto(tabela):\n",
    "    custoLinha = 0\n",
    "    dicionario = {}\n",
    "    for i in tabela:\n",
    "        if i in dicionario:\n",
    "            custoLinha += 1\n",
    "            dicionario[i] = dicionario[i] + 1\n",
    "        else:\n",
    "            dicionario[i] = 1\n",
    "            \n",
    "    somaDiagonal = 0 \n",
    "    for i in range(len(tabela)):\n",
    "        for j in range(i+1,len(tabela)):\n",
    "            \n",
    "            if tabela[i]+(j-i) < len(tabela):\n",
    "                if tabela[i+(j-i)] == tabela[i]+(j-i):\n",
    "                    somaDiagonal += 1\n",
    "            if tabela[i]-(j-i) >= 0:\n",
    "                if tabela[i+(j-i)] == tabela[i]-(j-i):\n",
    "                    somaDiagonal += 1\n",
    "        \n",
    "        for j in range(0,i):\n",
    "            if tabela[i]+(j+1) < len(tabela):\n",
    "                if tabela[i-(j+1)] == tabela[i]+(j+1):\n",
    "                    somaDiagonal += 1\n",
    "            if tabela[i]-(j+1) >= 0:\n",
    "                if tabela[i-(j+1)] == tabela[i]-(j+1):\n",
    "                    somaDiagonal += 1\n",
    "    custoTotal = int(somaDiagonal/2) + custoLinha\n",
    "    return custoTotal"
   ]
  },
  {
   "cell_type": "code",
   "execution_count": 53,
   "metadata": {
    "colab": {
     "base_uri": "https://localhost:8080/",
     "height": 124
    },
    "colab_type": "code",
    "id": "TSVEWIKO1nod",
    "outputId": "11e4b733-0c6e-403e-9a78-b3d2280bd67e"
   },
   "outputs": [
    {
     "name": "stdout",
     "output_type": "stream",
     "text": [
      "4\n",
      "[0, 1, 0, 0, 0]\n",
      "[1, 0, 0, 0, 0]\n",
      "[0, 0, 0, 0, 1]\n",
      "[0, 0, 0, 1, 0]\n",
      "[0, 0, 1, 0, 0]\n"
     ]
    }
   ],
   "source": [
    "caminhoFormiga = posicaoRainhas(5)\n",
    "print(calcularCusto(caminhoFormiga))\n",
    "printMatrixRainhas(caminhoFormiga)"
   ]
  },
  {
   "cell_type": "code",
   "execution_count": 39,
   "metadata": {
    "colab": {},
    "colab_type": "code",
    "id": "cF-6_puG1oEa"
   },
   "outputs": [],
   "source": [
    "def criarMatrizFeromonio(N):\n",
    "    matrix = []\n",
    "    for l in range(N):\n",
    "        matrix.append([])\n",
    "        \n",
    "    \n",
    "    for l in range(N):\n",
    "        for c in range(N):\n",
    "            matrix[l].append(1)\n",
    "    return matrix\n",
    "    "
   ]
  },
  {
   "cell_type": "code",
   "execution_count": 52,
   "metadata": {},
   "outputs": [
    {
     "name": "stdout",
     "output_type": "stream",
     "text": [
      "[1, 1, 1, 1, 1]\n",
      "[1, 1, 1, 1, 1]\n",
      "[1, 1, 1, 1, 1]\n",
      "[1, 1, 1, 1, 1]\n",
      "[1, 1, 1, 1, 1]\n"
     ]
    }
   ],
   "source": [
    "matrizFeronomio = criarMatrizFeromonio(len(caminhoFormiga))\n",
    "for line in matrizFeronomio:\n",
    "    print(line)"
   ]
  },
  {
   "cell_type": "code",
   "execution_count": 50,
   "metadata": {},
   "outputs": [],
   "source": [
    "def calcularMatrizFeronomio(caminhoFormiga, matrizFeromonio):\n",
    "    feromonio = 1/calcularCusto(caminhoFormiga)\n",
    "    \n",
    "    for l in range(len(caminhoFormiga)):\n",
    "        for c in range(len(caminhoFormiga)):\n",
    "            if (l == caminhoFormiga[c]):\n",
    "                matrizFeromonio[l][c] += feromonio\n",
    "    return matrizFeromonio"
   ]
  },
  {
   "cell_type": "code",
   "execution_count": 54,
   "metadata": {},
   "outputs": [
    {
     "name": "stdout",
     "output_type": "stream",
     "text": [
      "[1, 1.25, 1, 1, 1]\n",
      "[1.25, 1, 1, 1, 1]\n",
      "[1, 1, 1, 1, 1.25]\n",
      "[1, 1, 1, 1.25, 1]\n",
      "[1, 1, 1.25, 1, 1]\n"
     ]
    }
   ],
   "source": [
    "calcularMatrizFeronomio(caminhoFormiga, matrizFeronomio)\n",
    "for line in matrizFeronomio:\n",
    "    print(line)"
   ]
  },
  {
   "cell_type": "code",
   "execution_count": 55,
   "metadata": {},
   "outputs": [],
   "source": [
    "#calcularProbabilidade (usando roleta)"
   ]
  },
  {
   "cell_type": "code",
   "execution_count": null,
   "metadata": {},
   "outputs": [],
   "source": []
  }
 ],
 "metadata": {
  "colab": {
   "collapsed_sections": [],
   "include_colab_link": true,
   "name": "formiga.ipynb",
   "provenance": []
  },
  "kernelspec": {
   "display_name": "Python 3",
   "language": "python",
   "name": "python3"
  },
  "language_info": {
   "codemirror_mode": {
    "name": "ipython",
    "version": 3
   },
   "file_extension": ".py",
   "mimetype": "text/x-python",
   "name": "python",
   "nbconvert_exporter": "python",
   "pygments_lexer": "ipython3",
   "version": "3.7.3"
  }
 },
 "nbformat": 4,
 "nbformat_minor": 1
}
