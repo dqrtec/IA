{
  "nbformat": 4,
  "nbformat_minor": 0,
  "metadata": {
    "colab": {
      "name": "formiga.ipynb",
      "provenance": [],
      "collapsed_sections": []
    },
    "kernelspec": {
      "display_name": "Python 3",
      "language": "python",
      "name": "python3"
    },
    "language_info": {
      "codemirror_mode": {
        "name": "ipython",
        "version": 3
      },
      "file_extension": ".py",
      "mimetype": "text/x-python",
      "name": "python",
      "nbconvert_exporter": "python",
      "pygments_lexer": "ipython3",
      "version": "3.7.3"
    }
  },
  "cells": [
    {
      "cell_type": "markdown",
      "metadata": {
        "colab_type": "text",
        "id": "view-in-github"
      },
      "source": [
        "<a href=\"https://colab.research.google.com/github/dqrtec/IA/blob/master/formiga.ipynb\" target=\"_parent\"><img src=\"https://colab.research.google.com/assets/colab-badge.svg\" alt=\"Open In Colab\"/></a>"
      ]
    },
    {
      "cell_type": "code",
      "metadata": {
        "colab_type": "code",
        "id": "SpNHDQyY1vBb",
        "colab": {}
      },
      "source": [
        "import random as rdn"
      ],
      "execution_count": 0,
      "outputs": []
    },
    {
      "cell_type": "code",
      "metadata": {
        "colab_type": "code",
        "id": "3GNOMcPq1jtI",
        "colab": {}
      },
      "source": [
        "def posicaoRainhas(n):\n",
        "  a =  [i for i in range(0,n)] \n",
        "  rdn.shuffle( a )\n",
        "  return a\n",
        "\n",
        "def printMatrixRainhas(posicaoRainhas):\n",
        "  n = len(posicaoRainhas)\n",
        "  matrixRainhas = []\n",
        "  \n",
        "  for l in range(n):\n",
        "    matrixRainhas.append([])\n",
        "    for c in range(n):\n",
        "      if posicaoRainhas[c] == l:\n",
        "        matrixRainhas[l].append(1)\n",
        "      else:\n",
        "        matrixRainhas[l].append(0)\n",
        "  \n",
        "  for linha in matrixRainhas:\n",
        "    print(linha)\n",
        "    \n",
        "    \n",
        "def calcularCusto(tabela):\n",
        "    custoLinha = 0\n",
        "    dicionario = {}\n",
        "    for i in tabela:\n",
        "        if i in dicionario:\n",
        "            custoLinha += 1\n",
        "            dicionario[i] = dicionario[i] + 1\n",
        "        else:\n",
        "            dicionario[i] = 1\n",
        "            \n",
        "    somaDiagonal = 0 \n",
        "    for i in range(len(tabela)):\n",
        "        for j in range(i+1,len(tabela)):\n",
        "            \n",
        "            if tabela[i]+(j-i) < len(tabela):\n",
        "                if tabela[i+(j-i)] == tabela[i]+(j-i):\n",
        "                    somaDiagonal += 1\n",
        "            if tabela[i]-(j-i) >= 0:\n",
        "                if tabela[i+(j-i)] == tabela[i]-(j-i):\n",
        "                    somaDiagonal += 1\n",
        "        \n",
        "        for j in range(0,i):\n",
        "            if tabela[i]+(j+1) < len(tabela):\n",
        "                if tabela[i-(j+1)] == tabela[i]+(j+1):\n",
        "                    somaDiagonal += 1\n",
        "            if tabela[i]-(j+1) >= 0:\n",
        "                if tabela[i-(j+1)] == tabela[i]-(j+1):\n",
        "                    somaDiagonal += 1\n",
        "    custoTotal = int(somaDiagonal/2) + custoLinha\n",
        "    return custoTotal"
      ],
      "execution_count": 0,
      "outputs": []
    },
    {
      "cell_type": "code",
      "metadata": {
        "colab_type": "code",
        "id": "TSVEWIKO1nod",
        "outputId": "0829e6a3-424f-465a-9c51-2c33b96df6b9",
        "colab": {
          "base_uri": "https://localhost:8080/",
          "height": 119
        }
      },
      "source": [
        "caminhoFormiga = posicaoRainhas(5)\n",
        "print(calcularCusto(caminhoFormiga))\n",
        "printMatrixRainhas(caminhoFormiga)"
      ],
      "execution_count": 0,
      "outputs": [
        {
          "output_type": "stream",
          "text": [
            "4\n",
            "[0, 1, 0, 0, 0]\n",
            "[0, 0, 0, 0, 1]\n",
            "[0, 0, 0, 1, 0]\n",
            "[0, 0, 1, 0, 0]\n",
            "[1, 0, 0, 0, 0]\n"
          ],
          "name": "stdout"
        }
      ]
    },
    {
      "cell_type": "code",
      "metadata": {
        "colab_type": "code",
        "id": "cF-6_puG1oEa",
        "colab": {}
      },
      "source": [
        "def criarMatrizFeromonioInicial(N):\n",
        "    matrix = []\n",
        "    for l in range(N):\n",
        "        matrix.append([])\n",
        "        \n",
        "    \n",
        "    for l in range(N):\n",
        "        for c in range(N):\n",
        "            matrix[l].append(1)\n",
        "    return matrix\n",
        "    "
      ],
      "execution_count": 0,
      "outputs": []
    },
    {
      "cell_type": "code",
      "metadata": {
        "id": "Z9NWFft1JHVo",
        "colab_type": "code",
        "outputId": "996c3364-2a4a-4bf4-bd32-afb77c02b692",
        "colab": {
          "base_uri": "https://localhost:8080/",
          "height": 102
        }
      },
      "source": [
        "matrizFeronomio = criarMatrizFeromonioInicial(len(caminhoFormiga))\n",
        "for line in matrizFeronomio:\n",
        "    print(line)"
      ],
      "execution_count": 0,
      "outputs": [
        {
          "output_type": "stream",
          "text": [
            "[1, 1, 1, 1, 1]\n",
            "[1, 1, 1, 1, 1]\n",
            "[1, 1, 1, 1, 1]\n",
            "[1, 1, 1, 1, 1]\n",
            "[1, 1, 1, 1, 1]\n"
          ],
          "name": "stdout"
        }
      ]
    },
    {
      "cell_type": "code",
      "metadata": {
        "id": "YwusS7t1JHVt",
        "colab_type": "code",
        "colab": {}
      },
      "source": [
        "def calcularMatrizFeronomio(caminhoFormiga, matrizFeromonio):\n",
        "    feromonio = 1/calcularCusto(caminhoFormiga)\n",
        "    \n",
        "    for l in range(len(caminhoFormiga)):\n",
        "        for c in range(len(caminhoFormiga)):\n",
        "            if (l == caminhoFormiga[c]):\n",
        "                matrizFeromonio[l][c] += feromonio\n",
        "    return matrizFeromonio"
      ],
      "execution_count": 0,
      "outputs": []
    },
    {
      "cell_type": "code",
      "metadata": {
        "id": "VKRUoVtoJHV0",
        "colab_type": "code",
        "outputId": "f6005bed-8c2b-441d-b579-cac73a13277a",
        "colab": {
          "base_uri": "https://localhost:8080/",
          "height": 102
        }
      },
      "source": [
        "calcularMatrizFeronomio(caminhoFormiga, matrizFeronomio)\n",
        "for line in matrizFeronomio:\n",
        "    print(line)"
      ],
      "execution_count": 0,
      "outputs": [
        {
          "output_type": "stream",
          "text": [
            "[1, 1.25, 1, 1, 1]\n",
            "[1, 1, 1, 1, 1.25]\n",
            "[1, 1, 1, 1.25, 1]\n",
            "[1, 1, 1.25, 1, 1]\n",
            "[1.25, 1, 1, 1, 1]\n"
          ],
          "name": "stdout"
        }
      ]
    },
    {
      "cell_type": "code",
      "metadata": {
        "id": "uJI1VD9zJHV3",
        "colab_type": "code",
        "colab": {}
      },
      "source": [
        "#calcularProbabilidade (usando roleta)\n",
        "def calcMatrizProb(matrizFeronomio):\n",
        "  matrixProb = []\n",
        "  somas = []\n",
        "  for line in matrizFeronomio:\n",
        "    somas.append(0)\n",
        "  for line in matrizFeronomio:    \n",
        "    for index, col in enumerate(line):\n",
        "      somas[index] += col\n",
        "      \n",
        "  for indexLine, line in enumerate(matrizFeronomio):\n",
        "    matrixProb.append([])  \n",
        "  for indexLine, line in enumerate(matrizFeronomio):\n",
        "    for indexCol, col in enumerate(line):\n",
        "      matrixProb[indexLine].append(col/somas[indexCol]) \n",
        "      \n",
        "  for line in matrixProb:\n",
        "    print(line)\n",
        "  return matrixProb\n",
        "    \n",
        "  \n",
        "  "
      ],
      "execution_count": 0,
      "outputs": []
    },
    {
      "cell_type": "code",
      "metadata": {
        "id": "tXo2ZYoQJHV7",
        "colab_type": "code",
        "outputId": "de2db813-06f7-4afa-e44a-355e1a072740",
        "colab": {
          "base_uri": "https://localhost:8080/",
          "height": 102
        }
      },
      "source": [
        "matrizProb = calcMatrizProb(matrizFeronomio)"
      ],
      "execution_count": 0,
      "outputs": [
        {
          "output_type": "stream",
          "text": [
            "[0.19047619047619047, 0.23809523809523808, 0.19047619047619047, 0.19047619047619047, 0.19047619047619047]\n",
            "[0.19047619047619047, 0.19047619047619047, 0.19047619047619047, 0.19047619047619047, 0.23809523809523808]\n",
            "[0.19047619047619047, 0.19047619047619047, 0.19047619047619047, 0.23809523809523808, 0.19047619047619047]\n",
            "[0.19047619047619047, 0.19047619047619047, 0.23809523809523808, 0.19047619047619047, 0.19047619047619047]\n",
            "[0.23809523809523808, 0.19047619047619047, 0.19047619047619047, 0.19047619047619047, 0.19047619047619047]\n"
          ],
          "name": "stdout"
        }
      ]
    },
    {
      "cell_type": "code",
      "metadata": {
        "id": "Am2Gscn9Siku",
        "colab_type": "code",
        "colab": {}
      },
      "source": [
        "#método da roleta pra escolher a prox formiga"
      ],
      "execution_count": 0,
      "outputs": []
    },
    {
      "cell_type": "code",
      "metadata": {
        "id": "LyiBUf3gHmDi",
        "colab_type": "code",
        "colab": {}
      },
      "source": [
        ""
      ],
      "execution_count": 0,
      "outputs": []
    }
  ]
}