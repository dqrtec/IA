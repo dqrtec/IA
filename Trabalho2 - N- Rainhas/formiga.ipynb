{
  "nbformat": 4,
  "nbformat_minor": 0,
  "metadata": {
    "colab": {
      "name": "formiga.ipynb",
      "provenance": [],
      "collapsed_sections": []
    },
    "kernelspec": {
      "display_name": "Python 3",
      "language": "python",
      "name": "python3"
    },
    "language_info": {
      "codemirror_mode": {
        "name": "ipython",
        "version": 3
      },
      "file_extension": ".py",
      "mimetype": "text/x-python",
      "name": "python",
      "nbconvert_exporter": "python",
      "pygments_lexer": "ipython3",
      "version": "3.7.3"
    }
  },
  "cells": [
    {
      "cell_type": "markdown",
      "metadata": {
        "colab_type": "text",
        "id": "view-in-github"
      },
      "source": [
        "<a href=\"https://colab.research.google.com/github/dqrtec/IA/blob/master/formiga.ipynb\" target=\"_parent\"><img src=\"https://colab.research.google.com/assets/colab-badge.svg\" alt=\"Open In Colab\"/></a>"
      ]
    },
    {
      "cell_type": "code",
      "metadata": {
        "colab_type": "code",
        "id": "SpNHDQyY1vBb",
        "colab": {}
      },
      "source": [
        "import random as rdn"
      ],
      "execution_count": 0,
      "outputs": []
    },
    {
      "cell_type": "code",
      "metadata": {
        "colab_type": "code",
        "id": "3GNOMcPq1jtI",
        "colab": {}
      },
      "source": [
        "def caminhoInicial(n):\n",
        "  a =  [i for i in range(0,n)] \n",
        "  rdn.shuffle( a )\n",
        "  return a\n",
        "\n",
        "def printMatrizRainhas(posicaoRainhas):\n",
        "  n = len(posicaoRainhas)\n",
        "  matrixRainhas = []\n",
        "  \n",
        "  for l in range(n):\n",
        "    matrixRainhas.append([])\n",
        "    for c in range(n):\n",
        "      if posicaoRainhas[c] == l:\n",
        "        matrixRainhas[l].append(1)\n",
        "      else:\n",
        "        matrixRainhas[l].append(0)\n",
        "  \n",
        "  for linha in matrixRainhas:\n",
        "    print(linha)\n",
        "    \n",
        "    \n",
        "def calcularCusto(tabela):\n",
        "    custoLinha = 0\n",
        "    dicionario = {}\n",
        "    for i in tabela:\n",
        "        if i in dicionario:\n",
        "            custoLinha += 1\n",
        "            dicionario[i] = dicionario[i] + 1\n",
        "        else:\n",
        "            dicionario[i] = 1\n",
        "            \n",
        "    somaDiagonal = 0 \n",
        "    for i in range(len(tabela)):\n",
        "        for j in range(i+1,len(tabela)):\n",
        "            \n",
        "            if tabela[i]+(j-i) < len(tabela):\n",
        "                if tabela[i+(j-i)] == tabela[i]+(j-i):\n",
        "                    somaDiagonal += 1\n",
        "            if tabela[i]-(j-i) >= 0:\n",
        "                if tabela[i+(j-i)] == tabela[i]-(j-i):\n",
        "                    somaDiagonal += 1\n",
        "        \n",
        "        for j in range(0,i):\n",
        "            if tabela[i]+(j+1) < len(tabela):\n",
        "                if tabela[i-(j+1)] == tabela[i]+(j+1):\n",
        "                    somaDiagonal += 1\n",
        "            if tabela[i]-(j+1) >= 0:\n",
        "                if tabela[i-(j+1)] == tabela[i]-(j+1):\n",
        "                    somaDiagonal += 1\n",
        "    custoTotal = int(somaDiagonal/2) + custoLinha\n",
        "    return custoTotal"
      ],
      "execution_count": 0,
      "outputs": []
    },
    {
      "cell_type": "code",
      "metadata": {
        "colab_type": "code",
        "id": "TSVEWIKO1nod",
        "outputId": "63961d2c-0bb4-4f6b-c3ac-4953d242cb1d",
        "colab": {
          "base_uri": "https://localhost:8080/",
          "height": 126
        }
      },
      "source": [
        "caminhoFormiga = caminhoInicial(5)\n",
        "print(calcularCusto(caminhoFormiga))\n",
        "printMatrizRainhas(caminhoFormiga)"
      ],
      "execution_count": 4,
      "outputs": [
        {
          "output_type": "stream",
          "text": [
            "2\n",
            "[0, 0, 1, 0, 0]\n",
            "[1, 0, 0, 0, 0]\n",
            "[0, 0, 0, 0, 1]\n",
            "[0, 1, 0, 0, 0]\n",
            "[0, 0, 0, 1, 0]\n"
          ],
          "name": "stdout"
        }
      ]
    },
    {
      "cell_type": "code",
      "metadata": {
        "colab_type": "code",
        "id": "cF-6_puG1oEa",
        "colab": {}
      },
      "source": [
        "def criarMatrizFeromonioInicial(N):\n",
        "    matrix = []\n",
        "    for l in range(N):\n",
        "        matrix.append([])\n",
        "    for l in range(N):\n",
        "        for c in range(N):\n",
        "            matrix[l].append(1)\n",
        "    return matrix\n",
        "    "
      ],
      "execution_count": 0,
      "outputs": []
    },
    {
      "cell_type": "code",
      "metadata": {
        "id": "Z9NWFft1JHVo",
        "colab_type": "code",
        "outputId": "6cd570c9-21ae-453d-c84d-0d9ecec94f11",
        "colab": {
          "base_uri": "https://localhost:8080/",
          "height": 108
        }
      },
      "source": [
        "matrizFeronomio = criarMatrizFeromonioInicial(len(caminhoFormiga))\n",
        "for line in matrizFeronomio:\n",
        "    print(line)"
      ],
      "execution_count": 6,
      "outputs": [
        {
          "output_type": "stream",
          "text": [
            "[1, 1, 1, 1, 1]\n",
            "[1, 1, 1, 1, 1]\n",
            "[1, 1, 1, 1, 1]\n",
            "[1, 1, 1, 1, 1]\n",
            "[1, 1, 1, 1, 1]\n"
          ],
          "name": "stdout"
        }
      ]
    },
    {
      "cell_type": "code",
      "metadata": {
        "id": "YwusS7t1JHVt",
        "colab_type": "code",
        "colab": {}
      },
      "source": [
        "def calcularMatrizFeronomio(caminhoFormiga, matrizFeromonio):\n",
        "    if (calcularCusto(caminhoFormiga) == 0):\n",
        "      print(MatrizRainhas(caminhoFormiga))\n",
        "      return caminhoFormiga\n",
        "      \n",
        "      \n",
        "    feromonio = 1/calcularCusto(caminhoFormiga)\n",
        "    \n",
        "    for l, c in enumerate(caminhoFormiga):\n",
        "        if (l == caminhoFormiga[c]):\n",
        "            matrizFeromonio[l][c] += feromonio"
      ],
      "execution_count": 0,
      "outputs": []
    },
    {
      "cell_type": "code",
      "metadata": {
        "id": "VKRUoVtoJHV0",
        "colab_type": "code",
        "outputId": "8313f26f-1cf5-4156-cf4f-6e2e3772db29",
        "colab": {
          "base_uri": "https://localhost:8080/",
          "height": 108
        }
      },
      "source": [
        "calcularMatrizFeronomio(caminhoFormiga, matrizFeronomio)\n",
        "for line in matrizFeronomio:\n",
        "    print(line)"
      ],
      "execution_count": 22,
      "outputs": [
        {
          "output_type": "stream",
          "text": [
            "[1, 1, 2.0, 1, 1]\n",
            "[2.0, 1, 1, 1, 1]\n",
            "[1, 1, 1, 1, 2.0]\n",
            "[1, 2.0, 1, 1, 1]\n",
            "[1, 1, 1, 2.0, 1]\n"
          ],
          "name": "stdout"
        }
      ]
    },
    {
      "cell_type": "code",
      "metadata": {
        "id": "uJI1VD9zJHV3",
        "colab_type": "code",
        "colab": {}
      },
      "source": [
        "#calcularProbabilidade\n",
        "def calcMatrizProb(matrizFeronomio):\n",
        "  matrixProb = []\n",
        "  somas = []\n",
        "  for line in matrizFeronomio:\n",
        "    somas.append(0)\n",
        "  for line in matrizFeronomio:    \n",
        "    for index, col in enumerate(line):\n",
        "      somas[index] += col\n",
        "      \n",
        "  for indexLine, line in enumerate(matrizFeronomio):\n",
        "    matrixProb.append([])  \n",
        "  for indexLine, line in enumerate(matrizFeronomio):\n",
        "    for indexCol, col in enumerate(line):\n",
        "      matrixProb[indexLine].append(col/somas[indexCol]) \n",
        "      \n",
        "  for line in matrixProb:\n",
        "    print(line)\n",
        "  return matrixProb\n",
        "    \n",
        "  \n",
        "  "
      ],
      "execution_count": 0,
      "outputs": []
    },
    {
      "cell_type": "code",
      "metadata": {
        "id": "tXo2ZYoQJHV7",
        "colab_type": "code",
        "outputId": "2d70b633-0e4c-465c-8b5e-dc60debb6f2b",
        "colab": {
          "base_uri": "https://localhost:8080/",
          "height": 108
        }
      },
      "source": [
        "matrizProb = calcMatrizProb(matrizFeronomio)"
      ],
      "execution_count": 24,
      "outputs": [
        {
          "output_type": "stream",
          "text": [
            "[0.16666666666666666, 0.16666666666666666, 0.3333333333333333, 0.16666666666666666, 0.16666666666666666]\n",
            "[0.3333333333333333, 0.16666666666666666, 0.16666666666666666, 0.16666666666666666, 0.16666666666666666]\n",
            "[0.16666666666666666, 0.16666666666666666, 0.16666666666666666, 0.16666666666666666, 0.3333333333333333]\n",
            "[0.16666666666666666, 0.3333333333333333, 0.16666666666666666, 0.16666666666666666, 0.16666666666666666]\n",
            "[0.16666666666666666, 0.16666666666666666, 0.16666666666666666, 0.3333333333333333, 0.16666666666666666]\n"
          ],
          "name": "stdout"
        }
      ]
    },
    {
      "cell_type": "code",
      "metadata": {
        "id": "Am2Gscn9Siku",
        "colab_type": "code",
        "outputId": "c8eaa5f6-dcf3-4c45-b70f-84a4c4a7d696",
        "colab": {
          "base_uri": "https://localhost:8080/",
          "height": 126
        }
      },
      "source": [
        "#método da roleta pra escolher a prox formiga\n",
        "def novoCaminhoFormiga(matrizProb):\n",
        "  novoCaminho = [0 for n in matrizProb]\n",
        "  for line in matrizProb:\n",
        "    pesos = [n for n in line]\n",
        "    somaPeso = sum(pesos)\n",
        "    sorteio = rdn.random()\n",
        "    print(sorteio)\n",
        "    posicaoEscolhida = -1\n",
        "    if (sorteio > 0):\n",
        "      posicaoEscolhida += 1\n",
        "      sorteio -= pesos[posicaoEscolhida]\n",
        "    while (sorteio > 0):\n",
        "      posicaoEscolhida += 1\n",
        "      sorteio -= pesos[posicaoEscolhida]\n",
        "    novoCaminho[posicaoEscolhida] = posicaoEscolhida\n",
        "  \n",
        "  print(novoCaminho)\n",
        "\n",
        "novoCaminhoFormiga(matrizProb)  "
      ],
      "execution_count": 27,
      "outputs": [
        {
          "output_type": "stream",
          "text": [
            "0.9235913073875872\n",
            "0.8998565544505001\n",
            "0.6675412645409983\n",
            "0.7811984722672721\n",
            "0.30313754394867765\n",
            "[0, 1, 0, 3, 4]\n"
          ],
          "name": "stdout"
        }
      ]
    },
    {
      "cell_type": "code",
      "metadata": {
        "id": "LyiBUf3gHmDi",
        "colab_type": "code",
        "colab": {}
      },
      "source": [
        "#main\n",
        "n = 40\n",
        "numeroDeFormigas = 40\n",
        "caminhosFormigas = []\n",
        "for formiga in range(numeroDeFormigas):\n",
        "  caminhosFormigas.append(caminhoInicial(40))\n",
        "#matriz compartilhada pelas formigas\n",
        "matrizFeronomio = criarMatrizFeromonioInicial(n)"
      ],
      "execution_count": 0,
      "outputs": []
    },
    {
      "cell_type": "code",
      "metadata": {
        "id": "MAyMHityyUmq",
        "colab_type": "code",
        "colab": {}
      },
      "source": [
        ""
      ],
      "execution_count": 0,
      "outputs": []
    }
  ]
}