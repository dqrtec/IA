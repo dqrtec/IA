{
 "cells": [
  {
   "cell_type": "markdown",
   "metadata": {
    "colab_type": "text",
    "id": "view-in-github"
   },
   "source": [
    "<a href=\"https://colab.research.google.com/github/dqrtec/IA/blob/master/formiga.ipynb\" target=\"_parent\"><img src=\"https://colab.research.google.com/assets/colab-badge.svg\" alt=\"Open In Colab\"/></a>"
   ]
  },
  {
   "cell_type": "code",
   "execution_count": 23,
   "metadata": {
    "colab": {},
    "colab_type": "code",
    "id": "SpNHDQyY1vBb"
   },
   "outputs": [],
   "source": [
    "import random as rdn"
   ]
  },
  {
   "cell_type": "code",
   "execution_count": 53,
   "metadata": {},
   "outputs": [],
   "source": [
    "class formiga:\n",
    "    matrizRainhas = None\n",
    "    matrizFeronomio = None\n",
    "    \n",
    "    def __init__(self, rainhas):\n",
    "        self.matrizRainhas = geraMatrizRainhas(caminhoInicial(rainhas))\n",
    "    \n",
    "    def caminhoInicial(n):\n",
    "        a = [i for i in range(n)] \n",
    "        rdn.shuffle(a)\n",
    "        return a\n",
    "    \n",
    "    def geraMatrizRainhas(posicaoRainhas):\n",
    "        n = len(posicaoRainhas)\n",
    "        matrizRainhas = []\n",
    "\n",
    "        for l in range(n):\n",
    "            matrizRainhas.append([])\n",
    "            for c in range(n):\n",
    "                if posicaoRainhas[c] == l:\n",
    "                    matrizRainhas[l].append(1)\n",
    "                else:\n",
    "                    matrizRainhas[l].append(0)\n",
    "\n",
    "        return matrizRainhas\n",
    "    \n",
    "    def calcularCusto(tabela):\n",
    "        custoLinha = 0\n",
    "        dicionario = {}\n",
    "        for i in tabela:\n",
    "            if i in dicionario:\n",
    "                custoLinha += 1\n",
    "                dicionario[i] = dicionario[i] + 1\n",
    "            else:\n",
    "                dicionario[i] = 1\n",
    "\n",
    "        somaDiagonal = 0 \n",
    "        for i in range(len(tabela)):\n",
    "            for j in range(i+1,len(tabela)):\n",
    "\n",
    "                if tabela[i]+(j-i) < len(tabela):\n",
    "                    if tabela[i+(j-i)] == tabela[i]+(j-i):\n",
    "                        somaDiagonal += 1\n",
    "                if tabela[i]-(j-i) >= 0:\n",
    "                    if tabela[i+(j-i)] == tabela[i]-(j-i):\n",
    "                        somaDiagonal += 1\n",
    "\n",
    "            for j in range(0,i):\n",
    "                if tabela[i]+(j+1) < len(tabela):\n",
    "                    if tabela[i-(j+1)] == tabela[i]+(j+1):\n",
    "                        somaDiagonal += 1\n",
    "                if tabela[i]-(j+1) >= 0:\n",
    "                    if tabela[i-(j+1)] == tabela[i]-(j+1):\n",
    "                        somaDiagonal += 1\n",
    "        custoTotal = int(somaDiagonal/2) + custoLinha\n",
    "        \n",
    "        return custoTotal\n",
    "    \n",
    "    def criarMatrizFeromonioInicial(N):\n",
    "        matrix = []\n",
    "        for l in range(N):\n",
    "            matrix.append([])\n",
    "        for l in range(N):\n",
    "            for c in range(N):\n",
    "                matrix[l].append(1)\n",
    "        return matrix\n",
    "    \n",
    "    \n",
    "    def calcularMatrizFeronomio(caminhoFormiga, matrizFeromonio):\n",
    "        if (calcularCusto(caminhoFormiga) == 0):\n",
    "            print(MatrizRainhas(caminhoFormiga))\n",
    "            return caminhoFormiga\n",
    "\n",
    "        feromonio = 1/calcularCusto(caminhoFormiga)\n",
    "\n",
    "        for l, c in enumerate(caminhoFormiga):\n",
    "            if (l == caminhoFormiga[c]):\n",
    "                matrizFeromonio[l][c] += feromonio\n",
    "                \n",
    "    def calcMatrizProb(matrizFeronomio):\n",
    "        matrixProb = []\n",
    "        somas = []\n",
    "        for line in matrizFeronomio:\n",
    "            somas.append(0)\n",
    "        for line in matrizFeronomio:    \n",
    "            for index, col in enumerate(line):\n",
    "                somas[index] += col\n",
    "\n",
    "        for indexLine, line in enumerate(matrizFeronomio):\n",
    "            matrixProb.append([])  \n",
    "        for indexLine, line in enumerate(matrizFeronomio):\n",
    "            for indexCol, col in enumerate(line):\n",
    "                matrixProb[indexLine].append(col/somas[indexCol]) \n",
    "\n",
    "        for line in matrixProb:\n",
    "            print(line)\n",
    "\n",
    "        return matrixProb\n",
    "    \n",
    "    \n",
    "    #método da roleta pra escolher a prox formiga\n",
    "    def novoCaminhoFormiga(matrizProb):\n",
    "        novoCaminho = [0 for n in matrizProb]\n",
    "        for line in matrizProb:\n",
    "            pesos = [n for n in line]\n",
    "            somaPeso = sum(pesos)\n",
    "            sorteio = rdn.random()\n",
    "\n",
    "            print(sorteio)\n",
    "            posicaoEscolhida = -1\n",
    "\n",
    "            if (sorteio > 0):\n",
    "                posicaoEscolhida += 1\n",
    "                sorteio -= pesos[posicaoEscolhida]\n",
    "\n",
    "            while (sorteio > 0):\n",
    "                posicaoEscolhida += 1\n",
    "                sorteio -= pesos[posicaoEscolhida]\n",
    "\n",
    "            novoCaminho[posicaoEscolhida] = posicaoEscolhida\n",
    "\n",
    "        print(novoCaminho)"
   ]
  },
  {
   "cell_type": "code",
   "execution_count": 48,
   "metadata": {},
   "outputs": [
    {
     "name": "stdout",
     "output_type": "stream",
     "text": [
      "[[0, 0, 0, 0, 1], [0, 0, 0, 1, 0], [0, 0, 1, 0, 0], [0, 1, 0, 0, 0], [1, 0, 0, 0, 0]]\n"
     ]
    }
   ],
   "source": [
    "Antony = formiga(5)\n",
    "print(Antony.matrizRainhas)"
   ]
  },
  {
   "cell_type": "code",
   "execution_count": 9,
   "metadata": {
    "colab": {
     "base_uri": "https://localhost:8080/",
     "height": 126
    },
    "colab_type": "code",
    "id": "TSVEWIKO1nod",
    "outputId": "63961d2c-0bb4-4f6b-c3ac-4953d242cb1d"
   },
   "outputs": [
    {
     "name": "stdout",
     "output_type": "stream",
     "text": [
      "2\n",
      "[0, 0, 0, 1, 0]\n",
      "[1, 0, 0, 0, 0]\n",
      "[0, 0, 0, 0, 1]\n",
      "[0, 1, 0, 0, 0]\n",
      "[0, 0, 1, 0, 0]\n"
     ]
    }
   ],
   "source": [
    "caminhoFormiga = caminhoInicial(5)\n",
    "print(calcularCusto(caminhoFormiga))\n",
    "printMatrizRainhas(caminhoFormiga)"
   ]
  },
  {
   "cell_type": "code",
   "execution_count": 10,
   "metadata": {
    "colab": {
     "base_uri": "https://localhost:8080/",
     "height": 108
    },
    "colab_type": "code",
    "id": "Z9NWFft1JHVo",
    "outputId": "6cd570c9-21ae-453d-c84d-0d9ecec94f11"
   },
   "outputs": [
    {
     "name": "stdout",
     "output_type": "stream",
     "text": [
      "[1, 1, 1, 1, 1]\n",
      "[1, 1, 1, 1, 1]\n",
      "[1, 1, 1, 1, 1]\n",
      "[1, 1, 1, 1, 1]\n",
      "[1, 1, 1, 1, 1]\n"
     ]
    }
   ],
   "source": [
    "matrizFeronomio = criarMatrizFeromonioInicial(len(caminhoFormiga))\n",
    "for line in matrizFeronomio:\n",
    "    print(line)"
   ]
  },
  {
   "cell_type": "code",
   "execution_count": 11,
   "metadata": {
    "colab": {
     "base_uri": "https://localhost:8080/",
     "height": 108
    },
    "colab_type": "code",
    "id": "VKRUoVtoJHV0",
    "outputId": "8313f26f-1cf5-4156-cf4f-6e2e3772db29"
   },
   "outputs": [
    {
     "name": "stdout",
     "output_type": "stream",
     "text": [
      "[1, 1, 1, 1, 1]\n",
      "[1, 1, 1, 1, 1]\n",
      "[1, 1, 1, 1, 1.5]\n",
      "[1, 1, 1, 1, 1]\n",
      "[1, 1, 1.5, 1, 1]\n"
     ]
    }
   ],
   "source": [
    "calcularMatrizFeronomio(caminhoFormiga, matrizFeronomio)\n",
    "for line in matrizFeronomio:\n",
    "    print(line)"
   ]
  },
  {
   "cell_type": "code",
   "execution_count": 12,
   "metadata": {
    "colab": {
     "base_uri": "https://localhost:8080/",
     "height": 108
    },
    "colab_type": "code",
    "id": "tXo2ZYoQJHV7",
    "outputId": "2d70b633-0e4c-465c-8b5e-dc60debb6f2b"
   },
   "outputs": [
    {
     "name": "stdout",
     "output_type": "stream",
     "text": [
      "[0.2, 0.2, 0.18181818181818182, 0.2, 0.18181818181818182]\n",
      "[0.2, 0.2, 0.18181818181818182, 0.2, 0.18181818181818182]\n",
      "[0.2, 0.2, 0.18181818181818182, 0.2, 0.2727272727272727]\n",
      "[0.2, 0.2, 0.18181818181818182, 0.2, 0.18181818181818182]\n",
      "[0.2, 0.2, 0.2727272727272727, 0.2, 0.18181818181818182]\n"
     ]
    }
   ],
   "source": [
    "matrizProb = calcMatrizProb(matrizFeronomio)"
   ]
  },
  {
   "cell_type": "code",
   "execution_count": 13,
   "metadata": {
    "colab": {
     "base_uri": "https://localhost:8080/",
     "height": 126
    },
    "colab_type": "code",
    "id": "Am2Gscn9Siku",
    "outputId": "c8eaa5f6-dcf3-4c45-b70f-84a4c4a7d696"
   },
   "outputs": [
    {
     "name": "stdout",
     "output_type": "stream",
     "text": [
      "0.3013535365051748\n",
      "0.7162670555326608\n",
      "0.3386711796286028\n",
      "0.03994399394656811\n",
      "0.8353617711309759\n",
      "[0, 1, 0, 3, 0]\n"
     ]
    }
   ],
   "source": [
    "novoCaminhoFormiga(matrizProb)  "
   ]
  },
  {
   "cell_type": "code",
   "execution_count": 20,
   "metadata": {
    "colab": {},
    "colab_type": "code",
    "id": "LyiBUf3gHmDi"
   },
   "outputs": [],
   "source": [
    "def main(rainhas, formigas):\n",
    "    caminhosFormigas = []\n",
    "    \n",
    "    for formiga in range(formigas):\n",
    "        caminhosFormigas.append(caminhoInicial(formigas))\n",
    "    \n",
    "    conflitos = calcularCusto(caminhosFormigas[0])\n",
    "    \n",
    "    while conflitos > 0:\n",
    "        for formiga in caminhosFormigas:\n",
    "            custo = calcularCusto(formiga)\n",
    "            matrizFeronomio = criarMatrizFeromonioInicial(rainhas)\n",
    "            calcularMatrizFeronomio(formiga, matrizFeronomio)\n",
    "            matrizProb = calcMatrizProb(matrizFeronomio)\n",
    "\n",
    "\n",
    "\n",
    "            \n",
    "\n",
    "    matrizFeronomio = criarMatrizFeromonioInicial(rainhas)"
   ]
  },
  {
   "cell_type": "code",
   "execution_count": 22,
   "metadata": {
    "colab": {},
    "colab_type": "code",
    "id": "MAyMHityyUmq"
   },
   "outputs": [],
   "source": [
    "main(5, 1)"
   ]
  }
 ],
 "metadata": {
  "colab": {
   "collapsed_sections": [],
   "name": "formiga.ipynb",
   "provenance": []
  },
  "kernelspec": {
   "display_name": "Python 3",
   "language": "python",
   "name": "python3"
  },
  "language_info": {
   "codemirror_mode": {
    "name": "ipython",
    "version": 3
   },
   "file_extension": ".py",
   "mimetype": "text/x-python",
   "name": "python",
   "nbconvert_exporter": "python",
   "pygments_lexer": "ipython3",
   "version": "3.6.8"
  }
 },
 "nbformat": 4,
 "nbformat_minor": 1
}
