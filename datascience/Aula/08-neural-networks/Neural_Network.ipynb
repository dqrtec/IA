{
  "nbformat": 4,
  "nbformat_minor": 0,
  "metadata": {
    "colab": {
      "name": "Neural_Network.ipynb",
      "version": "0.3.2",
      "provenance": [],
      "collapsed_sections": [],
      "include_colab_link": true
    },
    "kernelspec": {
      "name": "python3",
      "display_name": "Python 3"
    }
  },
  "cells": [
    {
      "cell_type": "markdown",
      "metadata": {
        "id": "view-in-github",
        "colab_type": "text"
      },
      "source": [
        "<a href=\"https://colab.research.google.com/github/Franklyn-S/data-science-cookbook/blob/master/2019/08-neural-networks/Neural_Network.ipynb\" target=\"_parent\"><img src=\"https://colab.research.google.com/assets/colab-badge.svg\" alt=\"Open In Colab\"/></a>"
      ]
    },
    {
      "metadata": {
        "id": "MahRfz8Rq0fV",
        "colab_type": "text"
      },
      "cell_type": "markdown",
      "source": [
        "##Importing Keras and usind boston_housing dataset"
      ]
    },
    {
      "metadata": {
        "id": "Qa7zdALHolIH",
        "colab_type": "code",
        "colab": {}
      },
      "cell_type": "code",
      "source": [
        "import keras"
      ],
      "execution_count": 0,
      "outputs": []
    },
    {
      "metadata": {
        "id": "FzQDRq5jorNf",
        "colab_type": "code",
        "colab": {}
      },
      "cell_type": "code",
      "source": [
        "from keras.datasets import boston_housing"
      ],
      "execution_count": 0,
      "outputs": []
    },
    {
      "metadata": {
        "id": "mpfNwrM4pXW7",
        "colab_type": "code",
        "colab": {}
      },
      "cell_type": "code",
      "source": [
        "(x_train, y_train), (x_test, y_test) = boston_housing.load_data()"
      ],
      "execution_count": 0,
      "outputs": []
    },
    {
      "metadata": {
        "id": "EijALiTeqDZx",
        "colab_type": "code",
        "colab": {
          "base_uri": "https://localhost:8080/",
          "height": 35
        },
        "outputId": "628aa2b9-932d-4aa9-a7ca-269ad73be148"
      },
      "cell_type": "code",
      "source": [
        "x_train.shape"
      ],
      "execution_count": 7,
      "outputs": [
        {
          "output_type": "execute_result",
          "data": {
            "text/plain": [
              "(404, 13)"
            ]
          },
          "metadata": {
            "tags": []
          },
          "execution_count": 7
        }
      ]
    },
    {
      "metadata": {
        "id": "PvLZex5rqnR9",
        "colab_type": "text"
      },
      "cell_type": "markdown",
      "source": [
        "## Creating model on Keras"
      ]
    },
    {
      "metadata": {
        "id": "rlGpvhqaqO_Q",
        "colab_type": "code",
        "colab": {}
      },
      "cell_type": "code",
      "source": [
        "from keras.models import Sequential\n",
        "from keras.layers import Dense\n",
        "from keras.losses import binary_crossentropy\n",
        "import numpy as np"
      ],
      "execution_count": 0,
      "outputs": []
    },
    {
      "metadata": {
        "id": "1LGTv5cJqzOJ",
        "colab_type": "code",
        "colab": {}
      },
      "cell_type": "code",
      "source": [
        ""
      ],
      "execution_count": 0,
      "outputs": []
    },
    {
      "metadata": {
        "id": "sWLuTqZcrgFv",
        "colab_type": "code",
        "colab": {}
      },
      "cell_type": "code",
      "source": [
        "model = Sequential()\n",
        "model.add(Dense(64, activation='relu', input_shape = (13,)))\n",
        "model.add(Dense(64, activation = 'relu'))\n",
        "model.add(Dense(1))"
      ],
      "execution_count": 0,
      "outputs": []
    },
    {
      "metadata": {
        "id": "ggkmkCb_sV_7",
        "colab_type": "code",
        "colab": {}
      },
      "cell_type": "code",
      "source": [
        "model.compile(loss = 'mse', optimizer = 'rmsprop', metrics=['mae'])"
      ],
      "execution_count": 0,
      "outputs": []
    },
    {
      "metadata": {
        "id": "_FzEKzMqu6Qd",
        "colab_type": "code",
        "colab": {
          "base_uri": "https://localhost:8080/",
          "height": 392
        },
        "outputId": "aaef5077-c8b0-4737-b0ae-19c1304a73b4"
      },
      "cell_type": "code",
      "source": [
        "model.fit(x_train, y_train, shuffle=True, epochs = 10, verbose=2)"
      ],
      "execution_count": 108,
      "outputs": [
        {
          "output_type": "stream",
          "text": [
            "Epoch 1/10\n",
            " - 0s - loss: 117.9051 - mean_absolute_error: 8.5933\n",
            "Epoch 2/10\n",
            " - 0s - loss: 56.7647 - mean_absolute_error: 5.4250\n",
            "Epoch 3/10\n",
            " - 0s - loss: 123.1830 - mean_absolute_error: 8.1145\n",
            "Epoch 4/10\n",
            " - 0s - loss: 91.3652 - mean_absolute_error: 7.6102\n",
            "Epoch 5/10\n",
            " - 0s - loss: 87.5560 - mean_absolute_error: 7.4354\n",
            "Epoch 6/10\n",
            " - 0s - loss: 98.6303 - mean_absolute_error: 8.0289\n",
            "Epoch 7/10\n",
            " - 0s - loss: 83.6239 - mean_absolute_error: 7.4723\n",
            "Epoch 8/10\n",
            " - 0s - loss: 99.9772 - mean_absolute_error: 7.9968\n",
            "Epoch 9/10\n",
            " - 0s - loss: 86.4934 - mean_absolute_error: 7.4443\n",
            "Epoch 10/10\n",
            " - 0s - loss: 61.3852 - mean_absolute_error: 6.0420\n"
          ],
          "name": "stdout"
        },
        {
          "output_type": "execute_result",
          "data": {
            "text/plain": [
              "<keras.callbacks.History at 0x7fa6422356d8>"
            ]
          },
          "metadata": {
            "tags": []
          },
          "execution_count": 108
        }
      ]
    },
    {
      "metadata": {
        "id": "vF3tftCzxca3",
        "colab_type": "text"
      },
      "cell_type": "markdown",
      "source": [
        "## Testendo os valores"
      ]
    },
    {
      "metadata": {
        "id": "vmyxPu_T0O2M",
        "colab_type": "code",
        "colab": {}
      },
      "cell_type": "code",
      "source": [
        "y_hat = model.predict(x_train).flatten()"
      ],
      "execution_count": 0,
      "outputs": []
    },
    {
      "metadata": {
        "id": "RZok83i-woUW",
        "colab_type": "code",
        "colab": {
          "base_uri": "https://localhost:8080/",
          "height": 35
        },
        "outputId": "ecc4a1c3-4b90-4b1d-dc67-ef8fd5aec2a3"
      },
      "cell_type": "code",
      "source": [
        "np.mean(abs(y_train - y_hat))"
      ],
      "execution_count": 110,
      "outputs": [
        {
          "output_type": "execute_result",
          "data": {
            "text/plain": [
              "7.931748008728028"
            ]
          },
          "metadata": {
            "tags": []
          },
          "execution_count": 110
        }
      ]
    },
    {
      "metadata": {
        "id": "YDQzcZpN0W-o",
        "colab_type": "code",
        "colab": {
          "base_uri": "https://localhost:8080/",
          "height": 53
        },
        "outputId": "9f983a93-fc71-4388-bf48-484367a0c3f9"
      },
      "cell_type": "code",
      "source": [
        "model.evaluate( x_test, y_test)"
      ],
      "execution_count": 111,
      "outputs": [
        {
          "output_type": "stream",
          "text": [
            "102/102 [==============================] - 1s 12ms/step\n"
          ],
          "name": "stdout"
        },
        {
          "output_type": "execute_result",
          "data": {
            "text/plain": [
              "[90.11659704470166, 8.281317916570925]"
            ]
          },
          "metadata": {
            "tags": []
          },
          "execution_count": 111
        }
      ]
    },
    {
      "metadata": {
        "id": "Lva4wJk61tcD",
        "colab_type": "code",
        "colab": {
          "base_uri": "https://localhost:8080/",
          "height": 35
        },
        "outputId": "492d7721-24ca-4ebd-ea53-6a43f3db83e1"
      },
      "cell_type": "code",
      "source": [
        "np.mean(y_train)%%!%%!"
      ],
      "execution_count": 112,
      "outputs": [
        {
          "output_type": "execute_result",
          "data": {
            "text/plain": [
              "22.395049504950492"
            ]
          },
          "metadata": {
            "tags": []
          },
          "execution_count": 112
        }
      ]
    },
    {
      "metadata": {
        "id": "-5gkxxM44b7u",
        "colab_type": "code",
        "colab": {}
      },
      "cell_type": "code",
      "source": [
        ""
      ],
      "execution_count": 0,
      "outputs": []
    }
  ]
}