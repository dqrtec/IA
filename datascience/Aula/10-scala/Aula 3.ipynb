{
 "cells": [
  {
   "cell_type": "markdown",
   "metadata": {},
   "source": [
    "# Aula 3\n",
    "---\n",
    "\n",
    "Essa aula é um desafio para por em prova seus conhecimentos em Scala! Para resolvê-lo, você deverá\n",
    "utilizar o que foi apresentado nas últimas aulas E consultar materiais complementares(stack overflow) para aprender ainda mais em um cenário prático!"
   ]
  },
  {
   "cell_type": "markdown",
   "metadata": {},
   "source": [
    "## Baixando o dataset\n",
    "\n",
    "O dataset desta atividade foi tirado do Kaggle e chama-se [Food Ingredient List](https://www.kaggle.com/datafiniti/food-ingredient-lists/version/1#). Ele contém os ingredientes presentes em 10000 produtos encontrados em supermercados. Para mais informações, visite a [página do dataset](https://www.kaggle.com/datafiniti/food-ingredient-lists/version/1#).\n",
    "\n",
    "O código abaixo faz o download do dataset para o diretório atual deste notebook."
   ]
  },
  {
   "cell_type": "code",
   "execution_count": null,
   "metadata": {},
   "outputs": [],
   "source": [
    "import sys.process._\n",
    "\n",
    "\"wget -O ingredients.tsv https://drive.google.com/uc?export=download&id=1oTjCLXJZjciOmpweGsirlreu9zcrm6Py\"!"
   ]
  },
  {
   "cell_type": "markdown",
   "metadata": {},
   "source": [
    "## Processando o dataset\n",
    "\n",
    "Para simplificar o desafio (pois já há muita coisa difícil para se fazer) o dataset foi mapeado para TSV. As informações estão separadas por **tabulações** (caractere \\t). Processe-o e armazene-o da maneira que achar mais conveniente"
   ]
  },
  {
   "cell_type": "code",
   "execution_count": 1,
   "metadata": {},
   "outputs": [
    {
     "data": {
      "text/html": [
       "<div class=\"jp-RenderedText\">\n",
       "<pre><span class=\"ansi-green-fg\">import </span><span class=\"ansi-cyan-fg\">scala.io.Source\n",
       "</span>\n",
       "<span class=\"ansi-cyan-fg\">dataset_name</span>: <span class=\"ansi-green-fg\">String</span> = <span class=\"ansi-green-fg\">&quot;ingredients.tsv&quot;</span></pre>\n",
       "</div>"
      ],
      "text/plain": [
       "\u001b[32mimport \u001b[39m\u001b[36mscala.io.Source\n",
       "\u001b[39m\n",
       "\u001b[36mdataset_name\u001b[39m: \u001b[32mString\u001b[39m = \u001b[32m\"ingredients.tsv\"\u001b[39m"
      ]
     },
     "metadata": {},
     "output_type": "display_data"
    }
   ],
   "source": [
    "import scala.io.Source\n",
    "var dataset_name = \"ingredients.tsv\"\n",
    "/*print(Source.fromFile(dataset_name).getLines.take(5).toList.mkString(\"/n\")) */"
   ]
  },
  {
   "cell_type": "code",
   "execution_count": 2,
   "metadata": {
    "scrolled": true
   },
   "outputs": [
    {
     "data": {
      "text/plain": [
       "defined \u001b[32mclass\u001b[39m \u001b[36mDataset\u001b[39m\n",
       "\u001b[36mlines\u001b[39m: \u001b[32mIterator\u001b[39m[\u001b[32mString\u001b[39m] = \u001b[32mempty iterator\u001b[39m\n",
       "\u001b[36mamostras\u001b[39m: \u001b[32mList\u001b[39m[\u001b[32mDataset\u001b[39m] = \u001b[33mList\u001b[39m(\n",
       "  \u001b[33mDataset\u001b[39m(\n",
       "    \u001b[32m\"Simon Fischer\"\u001b[39m,\n",
       "    \u001b[32m\"Dried Prunes,Water,Corn Syrup,Sugar,Pectin.\"\u001b[39m,\n",
       "    \u001b[32m\"Grocery & Gourmet Food,Food,Grocery\"\u001b[39m,\n",
       "    \u001b[32m\"Simon Fischer Fruit Bttr Prune Lekvar\"\u001b[39m\n",
       "  ),\n",
       "  \u001b[33mDataset\u001b[39m(\n",
       "    \u001b[32m\"McCormick\"\u001b[39m,\n",
       "    \u001b[32m\"Salt,Sugar,Molasses (Refinery Syrup, Molasses, Caramel Color),Spices (Including Black Pepper),Garlic Onion,Tapioca Maltodextrin,Bacon Fat and Cooked Bacon (Cured with Water, Salt, Sodium Erythorbate, Sodium Nitrate),Silicon Dioxide (To Make Free Flowing),Autolyzed Yeast,Sunflower Oil,Corn Maltodextrin,Vinegar,Extractives of Paprika,and Natural Flavor (Including Smoke)\"\u001b[39m,\n",
       "    \u001b[32m\"Grocery & Gourmet Food,Food,Grocery\"\u001b[39m,\n",
       "    \u001b[32m\"McCORMICK GRILL MATES MOLASSES BACON SEASONING 1 x 77g JAR AMERICAN IMPORT\"\u001b[39m\n",
       "  ),\n",
       "  \u001b[33mDataset\u001b[39m(\n",
       "    \u001b[32m\"Jolly Time\"\u001b[39m,\n",
       "    \u001b[32m\"Salt, Yellow 5 Lake, Tricalcium Phosphate And Artificial Butter Flavor\"\u001b[39m,\n",
       "    \u001b[32m\"Grocery & Gourmet Food,Grocery\"\u001b[39m,\n",
       "    \u001b[32m\"Jolly Time Popcorn\"\u001b[39m\n",
       "  ),\n",
       "  \u001b[33mDataset\u001b[39m(\n",
       "    \u001b[32m\"Ziyad\"\u001b[39m,\n",
       "    \u001b[32m\"Mechanically hulled seasame seeds.Allergy Information: Packed in a facility that processes wheat, flour, peanuts and tree nuts.,Mechanically hulled seasame seeds.Allergy Information: Packed in a facility that processes wheat,flour,peanuts and tree nuts.\"\u001b[39m,\n",
       "    \u001b[32m\"Grocery & Gourmet Food,grocery\"\u001b[39m,\n",
       "    \u001b[32m\"Ziyad Tahini Sesame Sauce\"\u001b[39m\n",
       "  ),\n",
       "  \u001b[33mDataset\u001b[39m(\n",
       "    \u001b[32m\"Fla-Vor-Ice\"\u001b[39m,\n",
       "    \u001b[32m\"FALSE\"\u001b[39m,\n",
       "    \u001b[32m\"Grocery & Gourmet Food,grocery\"\u001b[39m,\n",
       "    \u001b[32m\"Fla-Vor-Ice Plus Giant Pops\"\u001b[39m\n",
       "  ),\n",
       "  \u001b[33mDataset\u001b[39m(\n",
       "...\n",
       "\u001b[36mamostrasAgrupadas\u001b[39m: \u001b[32mMap\u001b[39m[\u001b[32mString\u001b[39m, \u001b[32mList\u001b[39m[\u001b[32mDataset\u001b[39m]] = \u001b[33mMap\u001b[39m(\n",
       "  \u001b[32m\"ChocZero\"\u001b[39m -> \u001b[33mList\u001b[39m(\n",
       "    \u001b[33mDataset\u001b[39m(\n",
       "      \u001b[32m\"ChocZero\"\u001b[39m,\n",
       "      \u001b[32m\"Dark Chocolate (Unsweetened Chocolate, Cocoa Butter), Soluble Corn Fiber, Sunflower Lecithin, Monk Fruit Extract, Madagascar Bourbon Vanilla Beans. May contain milk, wheat, soy and nuts,Dark Chocolate (Unsweetened Chocolate, Cocoa Butter),Soluble Corn Fiber,Sunflower Lecithin,Monk Fruit Extract,Madagascar Bourbon Vanilla Beans. May contain milk,wheat,soy and nuts\"\u001b[39m,\n",
       "      \u001b[32m\"Grocery & Gourmet Food,Food & Beverage Gifts,Candy & Chocolate Gifts\"\u001b[39m,\n",
       "      \u001b[32m\"ChocZero 70% Dark Chocolate\"\u001b[39m\n",
       "    ),\n",
       "    \u001b[33mDataset\u001b[39m(\n",
       "      \u001b[32m\"ChocZero\"\u001b[39m,\n",
       "      \u001b[32m\"Dark Chocolate (Unsweetened Chocolate, Cocoa Butter), Soluble Corn Fiber, Sunflower Lecithin, Monk Fruit Extract, Madagascar Bourbon Vanilla Beans. May contain milk, wheat, soy and nuts,Dark Chocolate (Unsweetened Chocolate, Cocoa Butter),Soluble Corn Fiber,Sunflower Lecithin,Monk Fruit Extract,Madagascar Bourbon Vanilla Beans. May contain milk,wheat,soy and nuts\"\u001b[39m,\n",
       "      \u001b[32m\"Grocery & Gourmet Food,Candy & Chocolate,Bars\"\u001b[39m,\n",
       "      \u001b[32m\"ChocZero's Dark Collection\"\u001b[39m\n",
       "    ),\n",
       "    \u001b[33mDataset\u001b[39m(\n",
       "      \u001b[32m\"ChocZero\"\u001b[39m,\n",
       "      \u001b[32m\"Dark Chocolate (Unsweetened Chocolate, Cocoa Butter), Soluble Corn Fiber, Sunflower Lecithin, Monk Fruit Extract, Madagascar Bourbon Vanilla Beans. May contain milk, wheat, soy and nuts.,Dark Chocolate (Unsweetened Chocolate, Cocoa Butter),Soluble Corn Fiber,Sunflower Lecithin,Monk Fruit Extract,Madagascar Bourbon Vanilla Beans. May contain milk,wheat,soy and nuts.\"\u001b[39m,\n",
       "      \u001b[32m\"Grocery & Gourmet Food,Candy & Chocolate,Bars\"\u001b[39m,\n",
       "      \u001b[32m\"ChocZero 92% Ultimate Dark Chocolate\"\u001b[39m\n",
       "    ),\n",
       "    \u001b[33mDataset\u001b[39m(\n",
       "      \u001b[32m\"ChocZero\"\u001b[39m,\n",
       "      \u001b[32m\"For 70% and 50% Dark Chocolate: Dark Chocolate (Unsweetened Chocolate, Cocoa Butter), Soluble Corn Fiber, Sunflower Lecithin, Monk Fruit Extract, Madagascar Bourbon Vanilla Beans. May contain milk, wheat, soy and nuts. For Premium milk chocolate: Milk Chocolate ( Whole Milk Powder, Cocoa Butter, Unsweetened Chocolate), Soluble Corn Fiber, Sunflower Lecithin, Monk Fruit Extract, Madagascar B\u001b[39m..."
      ]
     },
     "execution_count": 2,
     "metadata": {},
     "output_type": "execute_result"
    }
   ],
   "source": [
    "case class Dataset(brand: String, ingredients: String, categories: String, name: String)\n",
    "val lines = Source.fromFile(dataset_name).getLines.drop(1)//.take(5)\n",
    "\n",
    "val amostras = lines\n",
    "                    .map(_.split(\"\\t\"))\n",
    "                    //.filter(_.length == 8)\n",
    "                    .map(l => Dataset(l(2), l(8), l(3), l(11)))\n",
    "                    .toList\n",
    "\n",
    "//agrupando as amostras pela classe\n",
    "val amostrasAgrupadas = amostras\n",
    "    .groupBy(_.brand)"
   ]
  },
  {
   "cell_type": "markdown",
   "metadata": {},
   "source": [
    "## Demandas\n",
    "---"
   ]
  },
  {
   "cell_type": "markdown",
   "metadata": {},
   "source": [
    "### 1 - Quantas e quais as marcas de produtos contidas no dataset?"
   ]
  },
  {
   "cell_type": "code",
   "execution_count": null,
   "metadata": {
    "scrolled": true
   },
   "outputs": [],
   "source": [
    "println(s\"Quantidade de amostras: \" + amostrasAgrupadas.size)\n",
    "for((c,amostras) <- amostrasAgrupadas){\n",
    "    println(c)\n",
    "}"
   ]
  },
  {
   "cell_type": "markdown",
   "metadata": {},
   "source": [
    "### 2 - Quais as marcas que aparecem mais no dataset? Quais aparecem menos?"
   ]
  },
  {
   "cell_type": "code",
   "execution_count": null,
   "metadata": {
    "scrolled": true
   },
   "outputs": [],
   "source": [
    "val amostrasAgrupadasTam = amostras\n",
    "    .groupBy(_.brand)\n",
    "    .mapValues(_.size)\n",
    "\n",
    "println(s\"Aparece mais: \" + amostrasAgrupadasTam.maxBy(_._2))\n",
    "println(s\"Aparece menos: \" + amostrasAgrupadasTam.minBy(_._2))"
   ]
  },
  {
   "cell_type": "markdown",
   "metadata": {},
   "source": [
    "### 3 - Compute a média e desvio padrão da frequência das marcas de produtos"
   ]
  },
  {
   "cell_type": "code",
   "execution_count": null,
   "metadata": {},
   "outputs": [],
   "source": [
    "import Numeric.Implicits._\n",
    "\n",
    "def mean[T: Numeric](xs: Iterable[T]): Double = xs.sum.toDouble / xs.size\n",
    "\n",
    "def variance[T: Numeric](xs: Iterable[T]): Double = {\n",
    "  val avg = mean(xs)\n",
    "\n",
    "  xs.map(_.toDouble).map(a => math.pow(a - avg, 2)).sum / xs.size\n",
    "}\n",
    "\n",
    "def stdDev[T: Numeric](xs: Iterable[T]): Double = math.sqrt(variance(xs))"
   ]
  },
  {
   "cell_type": "code",
   "execution_count": null,
   "metadata": {},
   "outputs": [],
   "source": [
    "println( s\"Média: \" + mean(amostrasAgrupadasTam.values))\n",
    "println( s\"Désvio padrão: \" + stdDev(amostrasAgrupadasTam.values))"
   ]
  },
  {
   "cell_type": "markdown",
   "metadata": {},
   "source": [
    "### 4 - Quais os ingredientes que aparecem nos produtos? Mostre quantos são, os que mais aparecem e os que menos aparecem."
   ]
  },
  {
   "cell_type": "code",
   "execution_count": null,
   "metadata": {},
   "outputs": [],
   "source": [
    "var name_ingredients = Map.empty[String,List[String]]\n",
    "\n",
    "\n",
    "for( i <- amostras){\n",
    "    i match {\n",
    "        case Dataset(_ , ingredient, _ , name) => name_ingredients = name_ingredients + (name -> (ingredient.split(\",\").toList))\n",
    "    }\n",
    "}\n",
    "\n",
    "var quantity_ingredients = Map.empty[String,Int]\n",
    "\n",
    "for( (name, ingredients) <- name_ingredients){\n",
    "    println(name + \" \\nIngredients: \" + ingredients + \"\\nQuantidade:\" + ingredients.size + \"\\n\")\n",
    "    for(i <- ingredients){\n",
    "        if(quantity_ingredients.contains(i)){\n",
    "            var new_value = quantity_ingredients(i).toInt + 1\n",
    "            quantity_ingredients += (i -> new_value) \n",
    "        }else{\n",
    "            quantity_ingredients += (i -> 1)\n",
    "        }\n",
    "    }\n",
    "}\n",
    "\n",
    "println(\"Most Usade Ingredient: \" + quantity_ingredients.maxBy(_._2))\n",
    "println(\"Least Usade Ingredient: \" + quantity_ingredients.minBy(_._2))\n",
    "    \n",
    "//println(name_ingredients(\"Simon Fischer Fruit Bttr Prune Lekvar\").size)"
   ]
  },
  {
   "cell_type": "markdown",
   "metadata": {},
   "source": [
    "### 5 - Compute a média e desvio padrão da frequência dos ingredientes"
   ]
  },
  {
   "cell_type": "code",
   "execution_count": null,
   "metadata": {},
   "outputs": [],
   "source": [
    "var listaQuantidade  = List[Int]()\n",
    "for( (name, quantidade) <- quantity_ingredients){\n",
    "    listaQuantidade = listaQuantidade ::: List(quantidade)\n",
    "}\n",
    "println( s\"Média: \" + mean(listaQuantidade))\n",
    "println( s\"Désvio padrão: \" + stdDev(listaQuantidade))"
   ]
  },
  {
   "cell_type": "markdown",
   "metadata": {},
   "source": [
    "### 6 - Quais os ingredientes mais usados por cada marca? E os menos usados?"
   ]
  },
  {
   "cell_type": "code",
   "execution_count": null,
   "metadata": {
    "scrolled": true
   },
   "outputs": [],
   "source": [
    "val amostrasAgrupadasByBrand = amostras\n",
    "    .groupBy(_.brand)\n",
    "    //.groupBy(_.ingredients)\n",
    "    //.mapValues(_.ingredients)\n",
    "\n",
    "//println(s\"Aparece mais: \" + amostrasAgrupadasByBrand.maxBy(_._2))\n",
    "//println(s\"Aparece menos: \" + amostrasAgrupadasByBrand.minBy(_._2))\n",
    "var a = amostrasAgrupadasByBrand(\"Simon Fischer\")"
   ]
  },
  {
   "cell_type": "code",
   "execution_count": null,
   "metadata": {
    "scrolled": true
   },
   "outputs": [],
   "source": [
    "\n",
    "amostras(1).ingredients.split(',').toList"
   ]
  },
  {
   "cell_type": "code",
   "execution_count": null,
   "metadata": {},
   "outputs": [],
   "source": [
    "var brand_ingredients = Map.empty[String,List[String]]\n",
    "\n",
    "var Listaingredients  = List[String]()\n",
    "\n",
    "for( amostra <- amostras){\n",
    "    amostra match {\n",
    "        case Dataset(brand , ingredients, _ , _) => {\n",
    "            Listaingredients = (ingredients.split(\",\").toList);\n",
    "            if(brand_ingredients.contains(brand)){\n",
    "                brand_ingredients(brand) -> brand_ingredients(brand) :: Listaingredients\n",
    "            }else{\n",
    "                brand_ingredients = brand_ingredients + (brand -> Listaingredients)\n",
    "            }\n",
    "        }\n",
    "    }\n",
    "}\n",
    "\n",
    "var quantidade = 0\n",
    "var nome = \"\"\n",
    "\n",
    "var contadorIngredientes = Map.empty[String,Int]\n",
    "for((marca, listaIngredientes)<-brand_ingredients){\n",
    "    for( ingredienteAtual <-listaIngredientes){\n",
    "            if(contadorIngredientes.contains(ingredienteAtual)){\n",
    "                var new_value = contadorIngredientes(ingredienteAtual).toInt + 1\n",
    "                contadorIngredientes += (ingredienteAtual -> new_value)\n",
    "            }else{\n",
    "                contadorIngredientes += (ingredienteAtual -> 1)\n",
    "            }\n",
    "    }\n",
    "    print(contadorIngredientes)\n",
    "    \n",
    "    quantidade = 0\n",
    "    nome = \"\"\n",
    "    for(i<-contadorIngredientes.keys){\n",
    "        if(quantidade<contadorIngredientes(i)){\n",
    "            nome = i\n",
    "            quantidade = contadorIngredientes(i)\n",
    "        }\n",
    "    }\n",
    "    \n",
    "    println(marca)\n",
    "    println(nome)\n",
    "    println(quantidade)\n",
    "    println()\n",
    "    \n",
    "    contadorIngredientes = Map.empty[String,Int]\n",
    "}"
   ]
  },
  {
   "cell_type": "markdown",
   "metadata": {},
   "source": [
    "### 7 - Compute alguma informação não demandada pelas questões anteriores e justifique o porquê que tal informação é útil"
   ]
  },
  {
   "cell_type": "code",
   "execution_count": 5,
   "metadata": {},
   "outputs": [
    {
     "name": "stdout",
     "output_type": "stream",
     "text": [
      "(Food,5951)"
     ]
    },
    {
     "data": {
      "text/html": [
       "<div class=\"jp-RenderedText\">\n",
       "<pre><span class=\"ansi-cyan-fg\">ListaCategorias</span>: <span class=\"ansi-green-fg\">List</span>[<span class=\"ansi-green-fg\">String</span>] = <span class=\"ansi-yellow-fg\">List</span>(\n",
       "  <span class=\"ansi-green-fg\">&quot;Grocery&quot;</span>,\n",
       "  <span class=\"ansi-green-fg\">&quot;Pantry&quot;</span>,\n",
       "  <span class=\"ansi-green-fg\">&quot;Granola&quot;</span>,\n",
       "  <span class=\"ansi-green-fg\">&quot;Food&quot;</span>,\n",
       "  <span class=\"ansi-green-fg\">&quot;Breakfast &amp; Cereal&quot;</span>,\n",
       "  <span class=\"ansi-green-fg\">&quot;Cold Cereal&quot;</span>\n",
       ")\n",
       "<span class=\"ansi-cyan-fg\">contadorCategorias</span>: <span class=\"ansi-green-fg\">Map</span>[<span class=\"ansi-green-fg\">String</span>, <span class=\"ansi-green-fg\">Int</span>] = <span class=\"ansi-yellow-fg\">Map</span>(\n",
       "  <span class=\"ansi-green-fg\">&quot;Cream &amp; Whipped Toppings&quot;</span> -&gt; <span class=\"ansi-green-fg\">2</span>,\n",
       "  <span class=\"ansi-green-fg\">&quot;Laundry Care&quot;</span> -&gt; <span class=\"ansi-green-fg\">16</span>,\n",
       "  <span class=\"ansi-green-fg\">&quot;Frozen Dinners &amp; Meals&quot;</span> -&gt; <span class=\"ansi-green-fg\">1</span>,\n",
       "  <span class=\"ansi-green-fg\">&quot;Electronics&quot;</span> -&gt; <span class=\"ansi-green-fg\">3</span>,\n",
       "  <span class=\"ansi-green-fg\">&quot;Snack Foods&quot;</span> -&gt; <span class=\"ansi-green-fg\">738</span>,\n",
       "  <span class=\"ansi-green-fg\">&quot;Cats&quot;</span> -&gt; <span class=\"ansi-green-fg\">47</span>,\n",
       "  <span class=\"ansi-green-fg\">&quot;Advertising&quot;</span> -&gt; <span class=\"ansi-green-fg\">4</span>,\n",
       "  <span class=\"ansi-green-fg\">&quot;#117          in&quot;</span> -&gt; <span class=\"ansi-green-fg\">1</span>,\n",
       "  <span class=\"ansi-green-fg\">&quot;Kitchen Storage &amp; Organization&quot;</span> -&gt; <span class=\"ansi-green-fg\">1</span>,\n",
       "  <span class=\"ansi-green-fg\">&quot;Canned &amp; Powdered Milk&quot;</span> -&gt; <span class=\"ansi-green-fg\">2</span>,\n",
       "  <span class=\"ansi-green-fg\">&quot;Fondue&quot;</span> -&gt; <span class=\"ansi-green-fg\">1</span>,\n",
       "  <span class=\"ansi-green-fg\">&quot;Baking Chocolate&quot;</span> -&gt; <span class=\"ansi-green-fg\">2</span>,\n",
       "  <span class=\"ansi-green-fg\">&quot;Household Supplies&quot;</span> -&gt; <span class=\"ansi-green-fg\">3</span>,\n",
       "  <span class=\"ansi-green-fg\">&quot;Capellini&quot;</span> -&gt; <span class=\"ansi-green-fg\">3</span>,\n",
       "  <span class=\"ansi-green-fg\">&quot;Frozen Rolls &amp; Wraps&quot;</span> -&gt; <span class=\"ansi-green-fg\">2</span>,\n",
       "  <span class=\"ansi-green-fg\">&quot;Kidney&quot;</span> -&gt; <span class=\"ansi-green-fg\">4</span>,\n",
       "  <span class=\"ansi-green-fg\">&quot;520          in&quot;</span> -&gt; <span class=\"ansi-green-fg\">1</span>,\n",
       "  <span class=\"ansi-green-fg\">&quot;Nuts &amp; Trail Mix&quot;</span> -&gt; <span class=\"ansi-green-fg\">4</span>,\n",
       "  <span class=\"ansi-green-fg\">&quot;Halloween&quot;</span> -&gt; <span class=\"ansi-green-fg\">19</span>,\n",
       "  <span class=\"ansi-green-fg\">&quot;Laundry&quot;</span> -&gt; <span class=\"ansi-green-fg\">2</span>,\n",
       "  <span class=\"ansi-green-fg\">&quot;Sesame&quot;</span> -&gt; <span class=\"ansi-green-fg\">3</span>,\n",
       "  <span class=\"ansi-green-fg\">&quot;Rotini&quot;</span> -&gt; <span class=\"ansi-green-fg\">10</span>,\n",
       "  <span class=\"ansi-green-fg\">&quot;Sage Leaf&quot;</span> -&gt; <span class=\"ansi-green-fg\">1</span>,\n",
       "  <span class=\"ansi-green-fg\">&quot;Sausages&quot;</span> -&gt; <span class=\"ansi-green-fg\">12</span>,\n",
       "  <span class=\"ansi-green-fg\">&quot;Electric&quot;</span> -&gt; <span class=\"ansi-green-fg\">8</span>,\n",
       "  <span class=\"ansi-green-fg\">&quot;Coconut Water&quot;</span> -&gt; <span class=\"ansi-green-fg\">7</span>,\n",
       "  <span class=\"ansi-green-fg\">&quot;Candy &amp; Chocolate Gifts&quot;</span> -&gt; <span class=\"ansi-green-fg\">78</span>,\n",
       "  <span class=\"ansi-green-fg\">&quot;Pasta Sauce&quot;</span> -&gt; <span class=\"ansi-green-fg\">10</span>,\n",
       "  <span class=\"ansi-green-fg\">&quot;Kitchen&quot;</span> -&gt; <span class=\"ansi-green-fg\">3</span>,\n",
       "  <span class=\"ansi-green-fg\">&quot;Bath Tissue&quot;</span> -&gt; <span class=\"ansi-green-fg\">3</span>,\n",
       "  <span class=\"ansi-green-fg\">&quot;Kids Candy&quot;</span> -&gt; <span class=\"ansi-green-fg\">9</span>,\n",
       "  <span class=\"ansi-green-fg\">&quot;Pest Control&quot;</span> -&gt; <span class=\"ansi-green-fg\">7</span>,\n",
       "  <span class=\"ansi-green-fg\">&quot;Cookies&quot;</span> -&gt; <span class=\"ansi-green-fg\">647</span>,\n",
       "  <span class=\"ansi-green-fg\">&quot;Flax Seed&quot;</span> -&gt; <span class=\"ansi-green-fg\">4</span>,\n",
       "  <span class=\"ansi-green-fg\">&quot;Margarita&quot;</span> -&gt; <span class=\"ansi-green-fg\">1</span>,\n",
       "  <span class=\"ansi-green-fg\">&quot;Household &amp; Pet Care&quot;</span> -&gt; <span class=\"ansi-green-fg\">1</span>,\n",
       "  <span class=\"ansi-green-fg\">&quot;Wasabi Powder&quot;</span> -&gt; <span class=\"ansi-green-fg\">2</span>,\n",
       "  <span class=\"ansi-green-fg\">&quot;Buffalo&quot;</span> -&gt; <span class=\"ansi-green-fg\">1</span>,\n",
       "...</pre>\n",
       "</div>"
      ],
      "text/plain": [
       "\u001b[36mListaCategorias\u001b[39m: \u001b[32mList\u001b[39m[\u001b[32mString\u001b[39m] = \u001b[33mList\u001b[39m(\n",
       "  \u001b[32m\"Grocery\"\u001b[39m,\n",
       "  \u001b[32m\"Pantry\"\u001b[39m,\n",
       "  \u001b[32m\"Granola\"\u001b[39m,\n",
       "  \u001b[32m\"Food\"\u001b[39m,\n",
       "  \u001b[32m\"Breakfast & Cereal\"\u001b[39m,\n",
       "  \u001b[32m\"Cold Cereal\"\u001b[39m\n",
       ")\n",
       "\u001b[36mcontadorCategorias\u001b[39m: \u001b[32mMap\u001b[39m[\u001b[32mString\u001b[39m, \u001b[32mInt\u001b[39m] = \u001b[33mMap\u001b[39m(\n",
       "  \u001b[32m\"Cream & Whipped Toppings\"\u001b[39m -> \u001b[32m2\u001b[39m,\n",
       "  \u001b[32m\"Laundry Care\"\u001b[39m -> \u001b[32m16\u001b[39m,\n",
       "  \u001b[32m\"Frozen Dinners & Meals\"\u001b[39m -> \u001b[32m1\u001b[39m,\n",
       "  \u001b[32m\"Electronics\"\u001b[39m -> \u001b[32m3\u001b[39m,\n",
       "  \u001b[32m\"Snack Foods\"\u001b[39m -> \u001b[32m738\u001b[39m,\n",
       "  \u001b[32m\"Cats\"\u001b[39m -> \u001b[32m47\u001b[39m,\n",
       "  \u001b[32m\"Advertising\"\u001b[39m -> \u001b[32m4\u001b[39m,\n",
       "  \u001b[32m\"#117          in\"\u001b[39m -> \u001b[32m1\u001b[39m,\n",
       "  \u001b[32m\"Kitchen Storage & Organization\"\u001b[39m -> \u001b[32m1\u001b[39m,\n",
       "  \u001b[32m\"Canned & Powdered Milk\"\u001b[39m -> \u001b[32m2\u001b[39m,\n",
       "  \u001b[32m\"Fondue\"\u001b[39m -> \u001b[32m1\u001b[39m,\n",
       "  \u001b[32m\"Baking Chocolate\"\u001b[39m -> \u001b[32m2\u001b[39m,\n",
       "  \u001b[32m\"Household Supplies\"\u001b[39m -> \u001b[32m3\u001b[39m,\n",
       "  \u001b[32m\"Capellini\"\u001b[39m -> \u001b[32m3\u001b[39m,\n",
       "  \u001b[32m\"Frozen Rolls & Wraps\"\u001b[39m -> \u001b[32m2\u001b[39m,\n",
       "  \u001b[32m\"Kidney\"\u001b[39m -> \u001b[32m4\u001b[39m,\n",
       "  \u001b[32m\"520          in\"\u001b[39m -> \u001b[32m1\u001b[39m,\n",
       "  \u001b[32m\"Nuts & Trail Mix\"\u001b[39m -> \u001b[32m4\u001b[39m,\n",
       "  \u001b[32m\"Halloween\"\u001b[39m -> \u001b[32m19\u001b[39m,\n",
       "  \u001b[32m\"Laundry\"\u001b[39m -> \u001b[32m2\u001b[39m,\n",
       "  \u001b[32m\"Sesame\"\u001b[39m -> \u001b[32m3\u001b[39m,\n",
       "  \u001b[32m\"Rotini\"\u001b[39m -> \u001b[32m10\u001b[39m,\n",
       "  \u001b[32m\"Sage Leaf\"\u001b[39m -> \u001b[32m1\u001b[39m,\n",
       "  \u001b[32m\"Sausages\"\u001b[39m -> \u001b[32m12\u001b[39m,\n",
       "  \u001b[32m\"Electric\"\u001b[39m -> \u001b[32m8\u001b[39m,\n",
       "  \u001b[32m\"Coconut Water\"\u001b[39m -> \u001b[32m7\u001b[39m,\n",
       "  \u001b[32m\"Candy & Chocolate Gifts\"\u001b[39m -> \u001b[32m78\u001b[39m,\n",
       "  \u001b[32m\"Pasta Sauce\"\u001b[39m -> \u001b[32m10\u001b[39m,\n",
       "  \u001b[32m\"Kitchen\"\u001b[39m -> \u001b[32m3\u001b[39m,\n",
       "  \u001b[32m\"Bath Tissue\"\u001b[39m -> \u001b[32m3\u001b[39m,\n",
       "  \u001b[32m\"Kids Candy\"\u001b[39m -> \u001b[32m9\u001b[39m,\n",
       "  \u001b[32m\"Pest Control\"\u001b[39m -> \u001b[32m7\u001b[39m,\n",
       "  \u001b[32m\"Cookies\"\u001b[39m -> \u001b[32m647\u001b[39m,\n",
       "  \u001b[32m\"Flax Seed\"\u001b[39m -> \u001b[32m4\u001b[39m,\n",
       "  \u001b[32m\"Margarita\"\u001b[39m -> \u001b[32m1\u001b[39m,\n",
       "  \u001b[32m\"Household & Pet Care\"\u001b[39m -> \u001b[32m1\u001b[39m,\n",
       "  \u001b[32m\"Wasabi Powder\"\u001b[39m -> \u001b[32m2\u001b[39m,\n",
       "  \u001b[32m\"Buffalo\"\u001b[39m -> \u001b[32m1\u001b[39m,\n",
       "..."
      ]
     },
     "metadata": {},
     "output_type": "display_data"
    }
   ],
   "source": [
    "//Saber a categoria que mais se repete\n",
    "//Verificar a situacao atual de como se da a venda de alimentos\n",
    "//Sera possivel produzir mais alimentos que tem mais saida, de forma a aumentar os lucros\n",
    "//o governo podera perceber um deficit na alimentacao da populacao e com isso promover politicas de incentivo\n",
    "var ListaCategorias  = List[String]()\n",
    "var contadorCategorias = Map.empty[String,Int]\n",
    "for( amostra <- amostras){\n",
    "    amostra match {\n",
    "        case Dataset(_ , _, categoriaAtual , _) => {\n",
    "            ListaCategorias = (categoriaAtual.split(\",\").toList);\n",
    "            for(categoria <- ListaCategorias){\n",
    "                if(contadorCategorias.contains(categoria)){\n",
    "                    var new_value = contadorCategorias(categoria).toInt + 1\n",
    "                    contadorCategorias += (categoria -> new_value)\n",
    "                }else{\n",
    "                    contadorCategorias += (categoria -> 1)\n",
    "                }\n",
    "            }\n",
    "        }\n",
    "    }\n",
    "}\n",
    "print(contadorCategorias.maxBy(_._2))"
   ]
  },
  {
   "cell_type": "code",
   "execution_count": null,
   "metadata": {},
   "outputs": [],
   "source": []
  }
 ],
 "metadata": {
  "kernelspec": {
   "display_name": "Scala (sources)",
   "language": "scala",
   "name": "scala"
  },
  "language_info": {
   "codemirror_mode": "text/x-scala",
   "file_extension": ".scala",
   "mimetype": "text/x-scala",
   "name": "scala",
   "nbconvert_exporter": "script",
   "version": "2.12.8"
  }
 },
 "nbformat": 4,
 "nbformat_minor": 2
}
