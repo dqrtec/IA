{
 "cells": [
  {
   "cell_type": "markdown",
   "metadata": {},
   "source": [
    "# WordCount\n",
    "1. Record Reader\n",
    "2. Input Split\n",
    "3. Map\n",
    "4. Shuffle and Sort\n",
    "5. Reduce\n",
    "6. Output Format"
   ]
  },
  {
   "cell_type": "markdown",
   "metadata": {},
   "source": [
    "#### 1. Record Reader\n",
    "Descreva uma função que realize a leitura de dados \"mercado_ti.txt\" e \"data_science.txt\""
   ]
  },
  {
   "cell_type": "code",
   "execution_count": 1,
   "metadata": {},
   "outputs": [],
   "source": [
    "def recordReader(filename):\n",
    "    arq = open(filename,'r')\n",
    "    text = arq.readlines()\n",
    "    arq.close\n",
    "    return text"
   ]
  },
  {
   "cell_type": "code",
   "execution_count": 2,
   "metadata": {},
   "outputs": [
    {
     "name": "stdout",
     "output_type": "stream",
     "text": [
      "estou testando\n",
      "\n",
      "o teste\n",
      "\n",
      "o teste\n",
      "\n"
     ]
    }
   ],
   "source": [
    "filenames = ['data/mercado_ti.txt', 'data/data_science.txt']\n",
    "\n",
    "text1 = recordReader(filenames[0])\n",
    "text2 = recordReader(filenames[1])\n",
    "for line in text1:\n",
    "    print(line)\n",
    "for linha in text2:\n",
    "    print(line)"
   ]
  },
  {
   "cell_type": "markdown",
   "metadata": {},
   "source": [
    "#### 2. Input split\n",
    "defina uma função split que recebe os dados e quebre os em partes menores para usar como entrada na função mapper.\n",
    "Exemplo: string.split()"
   ]
  },
  {
   "cell_type": "code",
   "execution_count": 3,
   "metadata": {},
   "outputs": [],
   "source": [
    "def input_split(text):\n",
    "    keys = []\n",
    "    for line in text:\n",
    "        line = line.replace('\\n', '')\n",
    "        words_in_line = line.split(\" \")\n",
    "        for word in words_in_line:\n",
    "            keys.append(word)\n",
    "    return keys"
   ]
  },
  {
   "cell_type": "code",
   "execution_count": 4,
   "metadata": {},
   "outputs": [
    {
     "name": "stdout",
     "output_type": "stream",
     "text": [
      "['teste', 'teste']\n",
      "['estou', 'testando', 'o', 'teste']\n"
     ]
    }
   ],
   "source": [
    "words = input_split(text2)\n",
    "print(words)\n",
    "\n",
    "words2 = input_split(text1)\n",
    "print(words2)"
   ]
  },
  {
   "cell_type": "markdown",
   "metadata": {},
   "source": [
    "#### 3. Map\n",
    "O usuário define uma função intermediária que recebe os dados e mapeia  pares de chave e valor (definido pelo usuário)"
   ]
  },
  {
   "cell_type": "code",
   "execution_count": 5,
   "metadata": {},
   "outputs": [],
   "source": [
    "def mapper(data):\n",
    "    dic = []\n",
    "    for word in data:\n",
    "        dic.append({word:1})\n",
    "    return dic"
   ]
  },
  {
   "cell_type": "code",
   "execution_count": 14,
   "metadata": {},
   "outputs": [
    {
     "name": "stdout",
     "output_type": "stream",
     "text": [
      "[{'teste': 1}, {'teste': 1}]\n",
      "[{'estou': 1}, {'testando': 1}, {'o': 1}, {'teste': 1}]\n",
      "[[{'teste': 1}, {'teste': 1}], [{'estou': 1}, {'testando': 1}, {'o': 1}, {'teste': 1}]]\n"
     ]
    }
   ],
   "source": [
    "dics = []\n",
    "dic1 = mapper(words)\n",
    "print(dic1)\n",
    "\n",
    "dic2 = mapper(words2)\n",
    "print(dic2)\n",
    "dics.append(dic1)\n",
    "dics.append(dic2)\n",
    "print(dics)"
   ]
  },
  {
   "cell_type": "markdown",
   "metadata": {},
   "source": [
    "#### 4. Shuffle\n",
    "Descreva uma função Shufle que ordena, filtra e agrupam os dados para serem usados como entrada na função reducer"
   ]
  },
  {
   "cell_type": "code",
   "execution_count": 24,
   "metadata": {},
   "outputs": [],
   "source": [
    "def shufle(dics):\n",
    "    dic = {}\n",
    "    for data in dics:\n",
    "        for tup in data:\n",
    "            keys = tup.keys()\n",
    "            for key in keys:\n",
    "                if key not in dic:\n",
    "                    dic[key] = 1\n",
    "                else:\n",
    "                    dic[key] += 1 \n",
    "    return dic"
   ]
  },
  {
   "cell_type": "code",
   "execution_count": 25,
   "metadata": {
    "scrolled": false
   },
   "outputs": [
    {
     "data": {
      "text/plain": [
       "{'teste': 3, 'estou': 1, 'testando': 1, 'o': 1}"
      ]
     },
     "execution_count": 25,
     "metadata": {},
     "output_type": "execute_result"
    }
   ],
   "source": [
    "shufle(dics)"
   ]
  },
  {
   "cell_type": "markdown",
   "metadata": {},
   "source": []
  },
  {
   "cell_type": "markdown",
   "metadata": {},
   "source": [
    "#### 5. Reduce\n",
    "Use uma função que agregue dados pelo valor (v) de acordo com a chave (k) para enviar pares de chave-valor para saída"
   ]
  },
  {
   "cell_type": "code",
   "execution_count": 19,
   "metadata": {},
   "outputs": [
    {
     "ename": "SyntaxError",
     "evalue": "unexpected EOF while parsing (<ipython-input-19-5a85f6300c43>, line 2)",
     "output_type": "error",
     "traceback": [
      "\u001b[0;36m  File \u001b[0;32m\"<ipython-input-19-5a85f6300c43>\"\u001b[0;36m, line \u001b[0;32m2\u001b[0m\n\u001b[0;31m    \u001b[0m\n\u001b[0m    ^\u001b[0m\n\u001b[0;31mSyntaxError\u001b[0m\u001b[0;31m:\u001b[0m unexpected EOF while parsing\n"
     ]
    }
   ],
   "source": [
    "def reducer():\n",
    "    "
   ]
  },
  {
   "cell_type": "code",
   "execution_count": null,
   "metadata": {},
   "outputs": [],
   "source": []
  },
  {
   "cell_type": "code",
   "execution_count": null,
   "metadata": {},
   "outputs": [],
   "source": []
  },
  {
   "cell_type": "markdown",
   "metadata": {},
   "source": [
    "#### 6.Output Format\n",
    "Forneça os pares de chave-valor finais ordenados pela maior frequência de palavras contadas."
   ]
  },
  {
   "cell_type": "code",
   "execution_count": null,
   "metadata": {},
   "outputs": [],
   "source": [
    "def outputFormat():"
   ]
  },
  {
   "cell_type": "code",
   "execution_count": null,
   "metadata": {},
   "outputs": [],
   "source": []
  },
  {
   "cell_type": "code",
   "execution_count": null,
   "metadata": {},
   "outputs": [],
   "source": []
  },
  {
   "cell_type": "markdown",
   "metadata": {},
   "source": [
    "# Exercício Teórico"
   ]
  },
  {
   "cell_type": "markdown",
   "metadata": {},
   "source": [
    "### 1. Explique como funcionam as funções map e reduce."
   ]
  },
  {
   "cell_type": "markdown",
   "metadata": {},
   "source": []
  },
  {
   "cell_type": "markdown",
   "metadata": {},
   "source": [
    "### 2. Por que e quando precisamos executar tarefas Map e Reduce?"
   ]
  },
  {
   "cell_type": "markdown",
   "metadata": {},
   "source": []
  }
 ],
 "metadata": {
  "kernelspec": {
   "display_name": "Python 3",
   "language": "python",
   "name": "python3"
  },
  "language_info": {
   "codemirror_mode": {
    "name": "ipython",
    "version": 3
   },
   "file_extension": ".py",
   "mimetype": "text/x-python",
   "name": "python",
   "nbconvert_exporter": "python",
   "pygments_lexer": "ipython3",
   "version": "3.6.8"
  }
 },
 "nbformat": 4,
 "nbformat_minor": 1
}
