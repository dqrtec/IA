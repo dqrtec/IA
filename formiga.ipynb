{
  "nbformat": 4,
  "nbformat_minor": 0,
  "metadata": {
    "colab": {
      "name": "formiga.ipynb",
      "provenance": [],
      "collapsed_sections": [],
      "include_colab_link": true
    },
    "kernelspec": {
      "name": "python3",
      "display_name": "Python 3"
    }
  },
  "cells": [
    {
      "cell_type": "markdown",
      "metadata": {
        "id": "view-in-github",
        "colab_type": "text"
      },
      "source": [
        "<a href=\"https://colab.research.google.com/github/dqrtec/IA/blob/master/formiga.ipynb\" target=\"_parent\"><img src=\"https://colab.research.google.com/assets/colab-badge.svg\" alt=\"Open In Colab\"/></a>"
      ]
    },
    {
      "cell_type": "code",
      "metadata": {
        "id": "SpNHDQyY1vBb",
        "colab_type": "code",
        "colab": {}
      },
      "source": [
        "import random as rdn"
      ],
      "execution_count": 0,
      "outputs": []
    },
    {
      "cell_type": "code",
      "metadata": {
        "id": "3GNOMcPq1jtI",
        "colab_type": "code",
        "colab": {}
      },
      "source": [
        "def posicaoRainhas(n):\n",
        "  a =  [i for i in range(0,n)] \n",
        "  rdn.shuffle( a )\n",
        "  return a\n",
        "\n",
        "def printMatrixRainhas(posicaoRainhas):\n",
        "  n = len(posicaoRainhas)\n",
        "  matrixRainhas = []\n",
        "  \n",
        "  for l in range(n):\n",
        "    matrixRainhas.append([])\n",
        "    for c in range(n):\n",
        "      if posicaoRainhas[c] == l:\n",
        "        matrixRainhas[l].append(1)\n",
        "      else:\n",
        "        matrixRainhas[l].append(0)\n",
        "  \n",
        "  for linha in matrixRainhas:\n",
        "    print(linha)\n",
        "    \n",
        "    \n",
        "def calcularCusto(tabela):\n",
        "    custoLinha = 0\n",
        "    dicionario = {}\n",
        "    for i in tabela:\n",
        "        if i in dicionario:\n",
        "            custoLinha += 1\n",
        "            dicionario[i] = dicionario[i] + 1\n",
        "        else:\n",
        "            dicionario[i] = 1\n",
        "            \n",
        "    somaDiagonal = 0 \n",
        "    for i in range(len(tabela)):\n",
        "        for j in range(i+1,len(tabela)):\n",
        "            \n",
        "            if tabela[i]+(j-i) < len(tabela):\n",
        "                if tabela[i+(j-i)] == tabela[i]+(j-i):\n",
        "                    somaDiagonal += 1\n",
        "            if tabela[i]-(j-i) >= 0:\n",
        "                if tabela[i+(j-i)] == tabela[i]-(j-i):\n",
        "                    somaDiagonal += 1\n",
        "        \n",
        "        for j in range(0,i):\n",
        "            if tabela[i]+(j+1) < len(tabela):\n",
        "                if tabela[i-(j+1)] == tabela[i]+(j+1):\n",
        "                    somaDiagonal += 1\n",
        "            if tabela[i]-(j+1) >= 0:\n",
        "                if tabela[i-(j+1)] == tabela[i]-(j+1):\n",
        "                    somaDiagonal += 1\n",
        "    custoTotal = int(somaDiagonal/2) + custoLinha\n",
        "    return custoTotal"
      ],
      "execution_count": 0,
      "outputs": []
    },
    {
      "cell_type": "code",
      "metadata": {
        "id": "NF0_DfIB1yuO",
        "colab_type": "code",
        "colab": {}
      },
      "source": [
        ""
      ],
      "execution_count": 0,
      "outputs": []
    },
    {
      "cell_type": "code",
      "metadata": {
        "id": "TSVEWIKO1nod",
        "colab_type": "code",
        "colab": {
          "base_uri": "https://localhost:8080/",
          "height": 124
        },
        "outputId": "11e4b733-0c6e-403e-9a78-b3d2280bd67e"
      },
      "source": [
        "a = posicaoRainhas(5)\n",
        "print(calcularCusto(a))\n",
        "printMatrixRainhas(a)"
      ],
      "execution_count": 7,
      "outputs": [
        {
          "output_type": "stream",
          "text": [
            "4\n",
            "[0, 0, 1, 0, 0]\n",
            "[0, 1, 0, 0, 0]\n",
            "[0, 0, 0, 0, 1]\n",
            "[0, 0, 0, 1, 0]\n",
            "[1, 0, 0, 0, 0]\n"
          ],
          "name": "stdout"
        }
      ]
    },
    {
      "cell_type": "code",
      "metadata": {
        "id": "cF-6_puG1oEa",
        "colab_type": "code",
        "colab": {}
      },
      "source": [
        ""
      ],
      "execution_count": 0,
      "outputs": []
    }
  ]
}